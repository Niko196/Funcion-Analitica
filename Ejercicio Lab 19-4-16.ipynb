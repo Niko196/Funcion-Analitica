{
 "cells": [
  {
   "cell_type": "code",
   "execution_count": 10,
   "metadata": {
    "collapsed": false
   },
   "outputs": [
    {
     "name": "stdout",
     "output_type": "stream",
     "text": [
      "0\t0.0\t\t9.0000\t\t0.0017\n",
      "1\t0.5\t\t6.2500\t\t0.1497\n",
      "2\t2.5\t\t0.2500\t\t0.5896\n",
      "3\t2.0\t\t1.0000\t\t0.3334\n",
      "4\t4.0\t\t1.0000\t\t0.3334\n",
      "5\t3.5\t\t0.2500\t\t0.5896\n",
      "6\t6.0\t\t9.0000\t\t0.7866\n",
      "7\t5.5\t\t6.2500\t\t0.2101\n",
      "\t24.0\t\t33.0000\t\t2.9940\n",
      "[0, 1, 2, 3, 4, 5, 6, 7]\n"
     ]
    }
   ],
   "source": [
    "import matplotlib.pyplot as plt\n",
    "\n",
    "def funcion(x):\n",
    "    return a0+a1*x\n",
    "\n",
    "x, y = [0,1,2,3,4,5,6,7], [0,0.5,2.5,2.0,4.0,3.5,6.0,5.5]\n",
    "n=8\n",
    "sumx, sumy, sumxy, sumx2, i = 0, 0, 0, 0, 0\n",
    "while (i<n):\n",
    "    sumx+=x[i]\n",
    "    sumy+=y[i]\n",
    "    sumxy+=x[i]*y[i]\n",
    "    sumx2+=x[i]**2\n",
    "    i+=1\n",
    "a1=(n*sumxy-sumx*sumy)/(n*sumx2-sumx**2)\n",
    "a0=(sumy/n)-a1*(sumx/n)\n",
    "i, sumf1, sumf2 = 0, 0, 0\n",
    "funY = []\n",
    "while (i<n):\n",
    "    f1=(y[i]-(sumy/n))**2\n",
    "    f2=(y[i]-a0-a1*x[i])**2\n",
    "    print (\"%d\\t%1.1f\\t\\t%1.4f\\t\\t%1.4f\" %(x[i],y[i],f1,f2))\n",
    "    sumf1+=f1\n",
    "    sumf2+=f2\n",
    "    funY.append(funcion(x[i]))\n",
    "    i+=1\n",
    "print (\"\\t%1.1f\\t\\t%1.4f\\t\\t%1.4f\" %(sumy, sumf1, sumf2))\n",
    "plt.plot(x,funY, label='y=a0+a1*x')\n",
    "plt.grid(True)\n",
    "plt.legend()\n",
    "plt.show()"
   ]
  }
 ],
 "metadata": {
  "kernelspec": {
   "display_name": "Python 3",
   "language": "python",
   "name": "python3"
  },
  "language_info": {
   "codemirror_mode": {
    "name": "ipython",
    "version": 3
   },
   "file_extension": ".py",
   "mimetype": "text/x-python",
   "name": "python",
   "nbconvert_exporter": "python",
   "pygments_lexer": "ipython3",
   "version": "3.5.1"
  }
 },
 "nbformat": 4,
 "nbformat_minor": 0
}
