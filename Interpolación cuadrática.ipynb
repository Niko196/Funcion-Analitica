{
 "cells": [
  {
   "cell_type": "code",
   "execution_count": 3,
   "metadata": {
    "collapsed": false
   },
   "outputs": [
    {
     "name": "stdout",
     "output_type": "stream",
     "text": [
      "Primer valor 3\n",
      "Segundo valor 5\n",
      "Tercer valor 8\n",
      "\n",
      "x0=3, x1=8, f(x0)=1.0986, f(x1)=2.0794, F(2)=0.9024, Er=30.1955\n",
      "x0=3, x1=5, f(x0)=1.0986, f(x1)=1.6094, F(2)=0.8432, Er=21.6480\n",
      "\n",
      "x0=3, x1=5, x2=8, f(x0)=1.0986, f(x1)=1.6094, f(x2)=2.0794\n",
      "b0=1.0986, b1=0.2554, b2=-0.0197, F(2)=0.7840, Er=13.1004\n",
      "\n"
     ]
    }
   ],
   "source": [
    "import math\n",
    "\n",
    "def f(x):\n",
    "    return math.log(x, math.e)\n",
    "\n",
    "def f2(x, x0, x1):\n",
    "    return b0+b1*(x-x0)+b2*(x-x0)*(x-x1)\n",
    "\n",
    "def lineal(x, x0, x1):\n",
    "    return (f(x0)+((f(x1)-f(x0))/(x1-x0)*(x-x0)))\n",
    "\n",
    "def cuadratica(x0, x1, x2):\n",
    "    b0 = f(x0)\n",
    "    b1 = (f(x1)-b0)/(x1-x0)\n",
    "    b2 = (((f(x2)-f(x1))/(x2-x1))-b1)/(x2-x0)\n",
    "    return b0, b1, b2\n",
    "\n",
    "def error(re, apr) :\n",
    "    return math.fabs(re-apr)/re*100\n",
    "\n",
    "r1 = int(input(\"Primer valor \"))\n",
    "r2 = int(input(\"Segundo valor \"))\n",
    "r3 = int(input(\"Tercer valor \"))\n",
    "print()\n",
    "fx = lineal(2,r1,r3)\n",
    "print(\"x0=%d, x1=%d, f(x0)=%1.4f, f(x1)=%1.4f, F(2)=%1.4f, Er=%1.4f\" %(r1,r3,f(r1),f(r3),fx,error(f(2),fx)))\n",
    "fx = lineal(2,r1,r2)\n",
    "print(\"x0=%d, x1=%d, f(x0)=%1.4f, f(x1)=%1.4f, F(2)=%1.4f, Er=%1.4f\" %(r1,r2,f(r1),f(r2),fx,error(f(2),fx)))\n",
    "print()\n",
    "b0, b1, b2 = cuadratica(r1,r2,r3)\n",
    "fx = f2(2,r1,r2)\n",
    "print(\"x0=%d, x1=%d, x2=%d, f(x0)=%1.4f, f(x1)=%1.4f, f(x2)=%1.4f\" %(r1,r2,r3,f(r1),f(r2),f(r3)))\n",
    "print(\"b0=%1.4f, b1=%1.4f, b2=%1.4f, F(2)=%1.4f, Er=%1.4f\" %(b0,b1,b2,fx,error(f(2),fx)))\n",
    "print()"
   ]
  },
  {
   "cell_type": "code",
   "execution_count": null,
   "metadata": {
    "collapsed": true
   },
   "outputs": [],
   "source": []
  }
 ],
 "metadata": {
  "kernelspec": {
   "display_name": "Python 3",
   "language": "python",
   "name": "python3"
  },
  "language_info": {
   "codemirror_mode": {
    "name": "ipython",
    "version": 3
   },
   "file_extension": ".py",
   "mimetype": "text/x-python",
   "name": "python",
   "nbconvert_exporter": "python",
   "pygments_lexer": "ipython3",
   "version": "3.5.1"
  }
 },
 "nbformat": 4,
 "nbformat_minor": 0
}
