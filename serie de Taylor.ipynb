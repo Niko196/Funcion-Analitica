{
 "cells": [
  {
   "cell_type": "markdown",
   "metadata": {},
   "source": [
    "# Uso de la expansión de la serie de Taylor\n",
    "## Para aproximar una función con un número inﬁnito de derivadas\n"
   ]
  },
  {
   "cell_type": "code",
   "execution_count": 16,
   "metadata": {
    "collapsed": false
   },
   "outputs": [
    {
     "name": "stdout",
     "output_type": "stream",
     "text": [
      "Terminos|\tF^(n)(x)\t|\t|F(x/3)\t\t|\tEt\n",
      "----------------------------------------------------------------------------------------\n",
      "0\t|\t0.707106781\t|\t0.707106781\t|\t0.207106781\n",
      "1\t|\t-0.185120122\t|\t0.521986659\t|\t0.021986659\n",
      "2\t|\t-0.024232167\t|\t0.497754491\t|\t0.002245509\n",
      "3\t|\t0.002114656\t|\t0.499869147\t|\t0.000130853\n",
      "4\t|\t0.000138404\t|\t0.500007551\t|\t0.000007551\n",
      "5\t|\t-0.000007247\t|\t0.500000304\t|\t0.000000304\n",
      "6\t|\t-0.000000316\t|\t0.499999988\t|\t0.000000012\n"
     ]
    }
   ],
   "source": [
    "import math as mat\n",
    "\n",
    "def derivada(opc, x):\n",
    "    fx = 0\n",
    "    if ((opc==0)or(opc==4)) :\n",
    "        fx = mat.cos(x)\n",
    "    if ((opc==1)or(opc==5)) :\n",
    "        fx = -mat.sin(x)\n",
    "    if ((opc==2)or(opc==6)) :\n",
    "        fx = -mat.cos(x)\n",
    "    if (opc==3):\n",
    "        fx = mat.sin(x)\n",
    "    return fx\n",
    "\n",
    "def factorial(x):\n",
    "    cont, res = 1, 1\n",
    "    while cont<=x:\n",
    "        res *= cont\n",
    "        cont += 1\n",
    "    return res\n",
    "    \n",
    "fx, faux, term, et = 0, 0, 0, 0\n",
    "x, h = mat.pi/4, mat.pi/12\n",
    "fx3 = mat.cos(mat.pi/3)\n",
    "print (\"Terminos|\\tF^(n)(x)\\t|\\t|F(x/3)\\t\\t|\\tEt\")\n",
    "print (\"------------------------------------------------------\"\n",
    "      +\"----------------------------------\")\n",
    "while term<=6:\n",
    "    faux = derivada(term, x)*h**term/factorial(term)\n",
    "    fx += faux\n",
    "    et = mat.fabs(fx3 - fx)\n",
    "    print (\"%d\\t|\\t%1.9f\\t|\\t%1.9f\\t|\\t%1.9f\" %(term, faux, fx, et))\n",
    "    term += 1\n"
   ]
  },
  {
   "cell_type": "code",
   "execution_count": null,
   "metadata": {
    "collapsed": true
   },
   "outputs": [],
   "source": []
  }
 ],
 "metadata": {
  "kernelspec": {
   "display_name": "Python 3",
   "language": "python",
   "name": "python3"
  },
  "language_info": {
   "codemirror_mode": {
    "name": "ipython",
    "version": 3
   },
   "file_extension": ".py",
   "mimetype": "text/x-python",
   "name": "python",
   "nbconvert_exporter": "python",
   "pygments_lexer": "ipython3",
   "version": "3.5.1"
  }
 },
 "nbformat": 4,
 "nbformat_minor": 0
}
