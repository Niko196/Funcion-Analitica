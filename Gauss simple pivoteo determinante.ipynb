{
 "cells": [
  {
   "cell_type": "code",
   "execution_count": 4,
   "metadata": {
    "collapsed": false
   },
   "outputs": [
    {
     "name": "stdout",
     "output_type": "stream",
     "text": [
      "Valor de m: 2\n",
      "Valor de n: 2\n",
      "Introduce la matriz de coeficientes y el vector solución\n",
      "Elemento a11: 0.0003\n",
      "Elemento a12: 3.0\n",
      "Solucion b1: 2.0001\n",
      "Elemento a21: 1.0\n",
      "Elemento a22: 1.0\n",
      "Solucion b2: 1.0\n",
      "La matriz original es: [[0.0003, 3.0], [1.0, 1.0]]\n",
      "El vector solucion original es: [2.0001, 1.0]\n",
      "Resultado de la matriz\n",
      "[[1.0, 1.0], [0.0, 2.9997]]\n",
      "Resultado del vector\n",
      "[1.0, 1.9994999700000002]\n",
      "Respuestas de las incognitas:\n",
      "[0.3334333533353334, 0.6665666466646666]\n",
      "\n",
      "X1=0.333433\n",
      "\n",
      "X2=0.666567\n",
      "El determinante es = 2.9997\n"
     ]
    }
   ],
   "source": [
    "vector, matrizx, x, producto = [], [], [], 1.0\n",
    "\n",
    "m=int(input(\"Valor de m: \"))\n",
    "n=int(input(\"Valor de n: \"))\n",
    "for z in range(n):\n",
    "    x.append(0.0)\n",
    "\n",
    "if(m==n):\n",
    "    print (\"Introduce la matriz de coeficientes y el vector solución\")\n",
    "    for i in range(m):\n",
    "        aux = []\n",
    "        for j in range(n):\n",
    "            aux.append(float(input(\"Elemento a\"+str(i+1)+\"\"+str(j+1)+\": \")))\n",
    "        matrizx.append(aux)\n",
    "        vector.append(float(input(\"Solucion b\"+str(i+1)+\": \")))\n",
    "        \n",
    "    print (\"La matriz original es: \"+str(matrizx))\n",
    "    print (\"El vector solucion original es: \"+str(vector))\n",
    "    \n",
    "    p,k=0,0\n",
    "    big = abs(matrizx[k][k])\n",
    "    for i in range(k+1,n):\n",
    "        dummy = abs(matrizx[i][k])\n",
    "        if (dummy>big):\n",
    "            big=dummy\n",
    "            p=i\n",
    "    if (p!=k):\n",
    "        for j in range(k,n):\n",
    "            dummy=matrizx[p][j]\n",
    "            matrizx[p][j]=matrizx[k][j]\n",
    "            matrizx[k][j]=dummy\n",
    "        dummy=vector[p]\n",
    "        vector[p]=vector[k]\n",
    "        vector[k]=dummy\n",
    "    \n",
    "    for z in range (m):\n",
    "        for y in range(z+1,m):\n",
    "            factor=(matrizx[y][z]/matrizx[z][z])\n",
    "            vector[y]=vector[y]-(factor*vector[y])\n",
    "            for w in range(0,n):\n",
    "                matrizx[y][w]=matrizx[y][w]-(factor*matrizx[z][w])\n",
    "    \n",
    "    #sustitución hacia atrás\n",
    "    x[m-1]=vector[m-1]/matrizx[m-1][m-1]\n",
    "    for y in range(m-2,-1,-1):\n",
    "        suma=0\n",
    "        for w in range(n):\n",
    "            suma=suma+matrizx[y][w]*x[w]\n",
    "        x[y]=(vector[y]-suma)/matrizx[y][y]\n",
    "     \n",
    "    print (\"Resultado de la matriz\\n\"+str(matrizx))\n",
    "    print (\"Resultado del vector\\n\"+str(vector))\n",
    "    print (\"Respuestas de las incognitas:\\n\"+str(x))\n",
    "    \n",
    "    for i in range(len(x)):\n",
    "        print (\"X%d=%f\" %(i+1,x[i]))\n",
    "    for i in range (n):\n",
    "        for j in range (n):\n",
    "            if(i==j):\n",
    "                producto=producto*matrizx[i][j]\n",
    "    print (\"El determinante es = \"+str(producto))\n",
    "else:\n",
    "    print (\"No se puede usar Gauss, no es una matriz cuadrada\")"
   ]
  },
  {
   "cell_type": "code",
   "execution_count": null,
   "metadata": {
    "collapsed": true
   },
   "outputs": [],
   "source": []
  }
 ],
 "metadata": {
  "kernelspec": {
   "display_name": "Python 3",
   "language": "python",
   "name": "python3"
  },
  "language_info": {
   "codemirror_mode": {
    "name": "ipython",
    "version": 3
   },
   "file_extension": ".py",
   "mimetype": "text/x-python",
   "name": "python",
   "nbconvert_exporter": "python",
   "pygments_lexer": "ipython3",
   "version": "3.5.1"
  }
 },
 "nbformat": 4,
 "nbformat_minor": 0
}
