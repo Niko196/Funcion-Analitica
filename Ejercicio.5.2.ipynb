{
 "cells": [
  {
   "cell_type": "code",
   "execution_count": 2,
   "metadata": {
    "collapsed": false
   },
   "outputs": [
    {
     "name": "stdout",
     "output_type": "stream",
     "text": [
      "Itera.\t|\tXl\t|\tXr\t|\tXu\t|\tf(x)\t|\tEa\n",
      "------------------------------------------------------------------------------------------\n",
      "0\t|\t0.000\t|\t0.000\t|\t1.000\t|\t--.---\t|\t0.000\n",
      "1\t|\t0.000\t|\t0.500\t|\t0.500\t|\t0.375\t|\t100.000\n",
      "2\t|\t0.250\t|\t0.250\t|\t0.500\t|\t-0.734\t|\t100.000\n",
      "3\t|\t0.375\t|\t0.375\t|\t0.500\t|\t-0.189\t|\t33.333\n",
      "4\t|\t0.375\t|\t0.438\t|\t0.438\t|\t0.087\t|\t14.286\n",
      "5\t|\t0.406\t|\t0.406\t|\t0.438\t|\t-0.052\t|\t7.692\n",
      "La raiz esta en t = 0.406\n"
     ]
    }
   ],
   "source": [
    "import matplotlib.pyplot as plt\n",
    "import math\n",
    "\n",
    "\n",
    "def funcion(x) :\n",
    "    return (a*(x**3)+b*(x**2)+c*x+d)\n",
    "\n",
    "a, b, c, d = 5.0, -5.0, 6.0, -2.0\n",
    "xl, xu, xr = 0.0, 1.0, 0.0\n",
    "ea, ante, es = 0.0, 0.0, 10.0\n",
    "rep = -1\n",
    "fx, tfx = [], [-3,-2,-1,0,1,2,3]\n",
    "for i in tfx:\n",
    "    fx.append(funcion(i))\n",
    "    \n",
    "print (\"Itera.\\t|\\tXl\\t|\\tXr\\t|\\tXu\\t|\\tf(x)\\t|\\tEa\")\n",
    "print (\"---------------------------------------------\"\n",
    "      +\"---------------------------------------------\")\n",
    "while True:\n",
    "    rep += 1\n",
    "    if (xr!=0):\n",
    "        print (\"%d\\t|\\t%1.3f\\t|\\t%1.3f\\t|\\t%1.3f\\t|\\t%1.3f\\t|\\t%1.3f\" %(rep, xl, xr, xu, funcion(xr), ea))\n",
    "    else : \n",
    "        print (\"%d\\t|\\t%1.3f\\t|\\t%1.3f\\t|\\t%1.3f\\t|\\t--.---\\t|\\t%1.3f\" %(rep, xl, xr, xu, ea))\n",
    "    if (funcion(xl)*funcion(xu)<0):\n",
    "        xr = (xl+xu)/2\n",
    "        ea = math.fabs(xr-ante)/xr*100\n",
    "        ante = xr;\n",
    "        if (funcion(xl)*funcion(xr)<0) :\n",
    "            xu = xr\n",
    "        else : \n",
    "            if (funcion(xl)*funcion(xr)>0):\n",
    "                xl = xr\n",
    "        if (ea<es):\n",
    "            rep+=1\n",
    "            print (\"%d\\t|\\t%1.3f\\t|\\t%1.3f\\t|\\t%1.3f\\t|\\t%1.3f\\t|\\t%1.3f\" %(rep, xl, xr, xu, funcion(xr), ea))\n",
    "            break\n",
    "    else :\n",
    "        break\n",
    "print (\"La raiz esta en t = %1.3f\" %(xr))\n",
    "        \n",
    "plt.plot([-3,3], [0,0])\n",
    "plt.plot([0,0], [-5,5])\n",
    "plt.plot(tfx, fx, label='f(x)')\n",
    "plt.title(\"Velocidad del paracaidista\")\n",
    "plt.legend(loc=\"upper left\")\n",
    "plt.xlabel(\"Tiempo\")\n",
    "plt.xlim(-3, 3)\n",
    "plt.ylabel(\"Velocidad\")\n",
    "plt.ylim(-5,5)\n",
    "plt.show()\n"
   ]
  },
  {
   "cell_type": "code",
   "execution_count": null,
   "metadata": {
    "collapsed": true
   },
   "outputs": [],
   "source": []
  }
 ],
 "metadata": {
  "kernelspec": {
   "display_name": "Python 3",
   "language": "python",
   "name": "python3"
  },
  "language_info": {
   "codemirror_mode": {
    "name": "ipython",
    "version": 3
   },
   "file_extension": ".py",
   "mimetype": "text/x-python",
   "name": "python",
   "nbconvert_exporter": "python",
   "pygments_lexer": "ipython3",
   "version": "3.5.1"
  }
 },
 "nbformat": 4,
 "nbformat_minor": 0
}
