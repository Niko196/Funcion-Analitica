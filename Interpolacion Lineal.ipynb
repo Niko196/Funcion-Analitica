{
 "cells": [
  {
   "cell_type": "code",
   "execution_count": 8,
   "metadata": {
    "collapsed": false
   },
   "outputs": [
    {
     "name": "stdout",
     "output_type": "stream",
     "text": [
      "\n",
      "X a evaluar en la funcion f(x): 2\n",
      "\n",
      "Valor de x0: 1\n",
      "\n",
      "Valor de x1: 4\n",
      "\n",
      "El valor real de Ln(2)= 0.6931\n",
      "Con una interpolación desde x0=1 hasta x1=4, se obtiene: 0.4621 . Que representa un error del 33.3333\n"
     ]
    }
   ],
   "source": [
    "import math\n",
    "\n",
    "def f(x):\n",
    "    return math.log(x, math.e)\n",
    "\n",
    "def fx(x1, x0):\n",
    "    return f(x0)+((f(x1)-f(x0))/(x1-x0))*(x-x0)\n",
    "\n",
    "def error(aprox):\n",
    "    return math.fabs(real-aprox)/real*100\n",
    "    \n",
    "x=int(input(\"\\nX a evaluar en la funcion f(x): \"))\n",
    "xa=int(input(\"\\nValor de x0: \"))\n",
    "xb=int(input(\"\\nValor de x1: \"))\n",
    "print()\n",
    "if(x>0):\n",
    "    real = math.log(x, math.e)\n",
    "    print (\"El valor real de Ln(%d)= %1.4f\" %(x,real))\n",
    "    print (\"Con una interpolación de x0=%d a x1=%d, se tiene: %1.4f . Con un error de %1.4f\" %(xa,xb,fx(xa,xb), error(fx(xa,xb))))\n",
    "else:\n",
    "    print (\"ERROR.X debe ser mayor a 0. \")"
   ]
  },
  {
   "cell_type": "code",
   "execution_count": null,
   "metadata": {
    "collapsed": true
   },
   "outputs": [],
   "source": []
  }
 ],
 "metadata": {
  "kernelspec": {
   "display_name": "Python 3",
   "language": "python",
   "name": "python3"
  },
  "language_info": {
   "codemirror_mode": {
    "name": "ipython",
    "version": 3
   },
   "file_extension": ".py",
   "mimetype": "text/x-python",
   "name": "python",
   "nbconvert_exporter": "python",
   "pygments_lexer": "ipython3",
   "version": "3.5.1"
  }
 },
 "nbformat": 4,
 "nbformat_minor": 0
}
