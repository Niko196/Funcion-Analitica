{
 "cells": [
  {
   "cell_type": "code",
   "execution_count": 6,
   "metadata": {
    "collapsed": false
   },
   "outputs": [
    {
     "name": "stdout",
     "output_type": "stream",
     "text": [
      "Itera.\t|\tXl\t|\tXr\t|\tXu\t|\tf(x)\t|\tEa\t|\tEs\n",
      "----------------------------------------------------------------------------------------------------\n",
      "0\t|\t1.000\t|\t0.000\t|\t100.000\t|\t--.---\t|\t0.000\t|\t0.1\n",
      "1\t|\t1.000\t|\t72.222\t|\t72.222\t|\t4.907\t|\t100.000\t|\t0.1\n",
      "2\t|\t1.000\t|\t63.319\t|\t63.319\t|\t1.462\t|\t14.061\t|\t0.1\n",
      "3\t|\t1.000\t|\t60.775\t|\t60.775\t|\t0.399\t|\t4.187\t|\t0.1\n",
      "4\t|\t1.000\t|\t60.088\t|\t60.088\t|\t0.106\t|\t1.142\t|\t0.1\n",
      "5\t|\t1.000\t|\t59.906\t|\t59.906\t|\t0.028\t|\t0.303\t|\t0.1\n",
      "6\t|\t1.000\t|\t59.859\t|\t59.859\t|\t0.007\t|\t0.080\t|\t0.1\n",
      "La raiz esta en t = 59.859\n"
     ]
    }
   ],
   "source": [
    "import math\n",
    "\n",
    "\n",
    "def funcion(m) :\n",
    "    return (g*m/c)*(1-e**(-(c/m)*t))-v\n",
    "\n",
    "g, c, v, t, e = 9.8, 15, 35, 9, 2.7182\n",
    "xl, xu, xr = 1, 100, 0.0\n",
    "ea, ante, es = 0.0, 0.0, 0.1\n",
    "rep = -1 \n",
    "print (\"Itera.\\t|\\tXl\\t|\\tXr\\t|\\tXu\\t|\\tf(x)\\t|\\tEa\\t|\\tEs\")\n",
    "print (\"-------------------------------------------------------\"\n",
    "      +\"---------------------------------------------\")\n",
    "while True:\n",
    "    rep += 1\n",
    "    if (xr!=0):\n",
    "        print (\"%d\\t|\\t%1.3f\\t|\\t%1.3f\\t|\\t%1.3f\\t|\\t%1.3f\\t|\\t%1.3f\\t|\\t%1.1f\" %(rep, xl, xr, xu, funcion(xr), ea, es))\n",
    "    else : \n",
    "        print (\"%d\\t|\\t%1.3f\\t|\\t%1.3f\\t|\\t%1.3f\\t|\\t--.---\\t|\\t%1.3f\\t|\\t%1.1f\" %(rep, xl, xr, xu, ea, es))\n",
    "    if (funcion(xl)*funcion(xu)<0):\n",
    "        xr = (xu-((funcion(xu)*(xl-xu))/(funcion(xl)-funcion(xu))))\n",
    "        ea = math.fabs(xr-ante)/xr*100\n",
    "        ante = xr;\n",
    "        if (funcion(xl)*funcion(xr)<0) :\n",
    "            xu = xr\n",
    "        else : \n",
    "            if (funcion(xl)*funcion(xr)>0):\n",
    "                xl = xr\n",
    "        if (ea<es):\n",
    "            rep+=1\n",
    "            print (\"%d\\t|\\t%1.3f\\t|\\t%1.3f\\t|\\t%1.3f\\t|\\t%1.3f\\t|\\t%1.3f\\t|\\t%1.1f\" %(rep, xl, xr, xu, funcion(xr), ea, es))\n",
    "            break\n",
    "    else :\n",
    "        break\n",
    "print (\"La raiz esta en t = %1.3f\" %(xr))"
   ]
  },
  {
   "cell_type": "code",
   "execution_count": null,
   "metadata": {
    "collapsed": true
   },
   "outputs": [],
   "source": []
  }
 ],
 "metadata": {
  "kernelspec": {
   "display_name": "Python 3",
   "language": "python",
   "name": "python3"
  },
  "language_info": {
   "codemirror_mode": {
    "name": "ipython",
    "version": 3
   },
   "file_extension": ".py",
   "mimetype": "text/x-python",
   "name": "python",
   "nbconvert_exporter": "python",
   "pygments_lexer": "ipython3",
   "version": "3.5.1"
  }
 },
 "nbformat": 4,
 "nbformat_minor": 0
}
