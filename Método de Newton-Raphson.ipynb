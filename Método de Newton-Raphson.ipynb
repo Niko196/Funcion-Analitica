{
 "cells": [
  {
   "cell_type": "markdown",
   "metadata": {},
   "source": [
    "#  Método de Newton-Raphson"
   ]
  },
  {
   "cell_type": "code",
   "execution_count": 17,
   "metadata": {
    "collapsed": false
   },
   "outputs": [
    {
     "name": "stdout",
     "output_type": "stream",
     "text": [
      "i\t|\tXi\t\t|\tEa\n",
      "----------------------------------------------\n",
      "0\t|\t0.000000\t|\t0.000000\n",
      "1\t|\t0.500000\t|\t100.000000\n",
      "2\t|\t0.566329\t|\t11.712140\n",
      "3\t|\t0.567164\t|\t0.147248\n",
      "4\t|\t0.567165\t|\t0.000028\n"
     ]
    }
   ],
   "source": [
    "import math\n",
    "\n",
    "def funcion (x):\n",
    "    return (e**(-x)-x)\n",
    "\n",
    "def derivada(x):\n",
    "    return (-e**(-x)-1)\n",
    "\n",
    "def error(x1, xi):\n",
    "    return (math.fabs((x1-xi)/x1)*100)\n",
    "\n",
    "e, ea, xi, x1, rep = 2.718, 0, 0, 0, 0\n",
    "print(\"i\\t|\\tXi\\t\\t|\\tEa\")\n",
    "print (\"----------------------------------------------\")\n",
    "while rep<=4:\n",
    "    print(\"%d\\t|\\t%f\\t|\\t%f\" %(rep, x1, ea))\n",
    "    x1 = xi-(funcion(xi)/derivada(xi))\n",
    "    ea = error(x1, xi)\n",
    "    xi = x1\n",
    "    rep +=1"
   ]
  },
  {
   "cell_type": "code",
   "execution_count": null,
   "metadata": {
    "collapsed": true
   },
   "outputs": [],
   "source": []
  }
 ],
 "metadata": {
  "kernelspec": {
   "display_name": "Python 3",
   "language": "python",
   "name": "python3"
  },
  "language_info": {
   "codemirror_mode": {
    "name": "ipython",
    "version": 3
   },
   "file_extension": ".py",
   "mimetype": "text/x-python",
   "name": "python",
   "nbconvert_exporter": "python",
   "pygments_lexer": "ipython3",
   "version": "3.5.1"
  }
 },
 "nbformat": 4,
 "nbformat_minor": 0
}
