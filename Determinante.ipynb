{
 "cells": [
  {
   "cell_type": "code",
   "execution_count": 6,
   "metadata": {
    "collapsed": false
   },
   "outputs": [
    {
     "name": "stdout",
     "output_type": "stream",
     "text": [
      "Ingrese el valor de A00 10\n",
      "Ingrese el valor de A01 2\n",
      "Ingrese el valor de A02 -1\n",
      "Ingrese el valor de B0 27\n",
      "Ingrese el valor de A10 -3\n",
      "Ingrese el valor de A11 -6\n",
      "Ingrese el valor de A12 2\n",
      "Ingrese el valor de B1 -61.5\n",
      "Ingrese el valor de A20 1\n",
      "Ingrese el valor de A21 1\n",
      "Ingrese el valor de A22 5\n",
      "Ingrese el valor de B2 -21.5\n",
      "El determinante es: -289.0\n",
      "Solución x1: 0.5\n",
      "Solución x2: 8.0\n",
      "Solución x3: -6.0\n"
     ]
    }
   ],
   "source": [
    "z,b = [],[]\n",
    "\n",
    "def ingreso() :\n",
    "    fila=[]\n",
    "    i,j=0,0\n",
    "    while(i<3):\n",
    "        while(j<3):\n",
    "            num=float(input(\"Ingrese el valor de A%d%d \" %(i,j)))\n",
    "            fila.append(num)\n",
    "            j+=1\n",
    "        j=0\n",
    "        z.append(fila)\n",
    "        fila = []\n",
    "        rep=float(input(\"Ingrese el valor de B%d \" %(i)))\n",
    "        b.append(rep)\n",
    "        i+=1\n",
    "\n",
    "ingreso()\n",
    "deter=(((z[0][0])*((z[1][1])*(z[2][2])-(z[1][2])*(z[2][1])))-((z[0][1])*((z[1][0])*(z[2][2])-(z[1][2])*(z[2][0])))+\n",
    "       ((z[0][2])*((z[1][0])*(z[2][1])-(z[1][1])*(z[2][0]))))\n",
    "print (\"El determinante es: \"+str(deter))\n",
    "deter1=(((b[0])*((z[1][1])*(z[2][2])-(z[1][2])*(z[2][1])))-((z[0][1])*((b[1])*(z[2][2])-(z[1][2])*(b[2])))+((z[0][2])*\n",
    "        ((b[1])*(z[2][1])-(z[1][1])*(b[2]))))\n",
    "x1=(deter1/deter)\n",
    "print (\"Solución x1: \"+str(x1))\n",
    "deter2=(((z[0][0])*((b[1])*(z[2][2])-(z[1][2])*(b[2])))-((b[0])*((z[1][0])*(z[2][2])-(z[1][2])*(z[2][0])))+((z[0][2])*\n",
    "        ((z[1][0])*(b[2])-(b[1])*(z[2][0]))))\n",
    "x2=(deter2/deter)\n",
    "print (\"Solución x2: \"+str(x2))\n",
    "deter3=(((z[0][0])*((z[1][1])*(b[2])-(b[1])*(z[2][1])))-((z[0][1])*((z[1][0])*(b[2])-(b[1])*(z[2][0])))+((b[0])*\n",
    "        ((z[1][0])*(z[2][1])-(z[1][1])*(z[2][0]))))\n",
    "x3=(deter3/deter)\n",
    "print (\"Solución x3: \"+str(x3))"
   ]
  },
  {
   "cell_type": "code",
   "execution_count": null,
   "metadata": {
    "collapsed": true
   },
   "outputs": [],
   "source": []
  }
 ],
 "metadata": {
  "kernelspec": {
   "display_name": "Python 3",
   "language": "python",
   "name": "python3"
  },
  "language_info": {
   "codemirror_mode": {
    "name": "ipython",
    "version": 3
   },
   "file_extension": ".py",
   "mimetype": "text/x-python",
   "name": "python",
   "nbconvert_exporter": "python",
   "pygments_lexer": "ipython3",
   "version": "3.5.1"
  }
 },
 "nbformat": 4,
 "nbformat_minor": 0
}
