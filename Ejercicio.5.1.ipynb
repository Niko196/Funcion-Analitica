{
 "cells": [
  {
   "cell_type": "code",
   "execution_count": null,
   "metadata": {
    "collapsed": false
   },
   "outputs": [],
   "source": [
    "import matplotlib.pyplot as plt\n",
    "import math\n",
    "\n",
    "\n",
    "def funcion(x) :\n",
    "    return (a*(x**2)+b*x+c)\n",
    "\n",
    "a, b, c = -0.5, 2.5, 4.5\n",
    "xl, xu, xr = 5.0, 10.0, 0.0\n",
    "et, ea, ante = 0.0, 0.0, 0.0\n",
    "rep = -1\n",
    "fx, tfx = [], [-3,-2,-1,0,1,2,3,4,5,6,7,8,9,10,11,12]\n",
    "for i in tfx:\n",
    "    fx.append(funcion(i))\n",
    "\n",
    "x1 =((-b+math.sqrt(math.pow(b,2)-(4*a*c)))/(2*a))\n",
    "x2 =((-b-math.sqrt(math.pow(b,2)-(4*a*c)))/(2*a))\n",
    "print (\"x = -b+-raiz(cuadrado(b)-4ac)/2a\")\n",
    "print ()\n",
    "print (\"x1 = (-(%1.2f)+raiz((%1.2f)^2-4(%1.2f)(%1.2f)))/2(%1.2f)\" %(b,b,a,c,a))\n",
    "print (\"x1 = %f\" %(x1))\n",
    "print ()\n",
    "print (\"x2 = (-(%1.2f)-raiz((%1.2f)^2-4(%1.2f)(%1.2f)))/2(%1.2f)\" %(b,b,a,c,a))\n",
    "print (\"x2 = %f\" %(x2))\n",
    "    \n",
    "print()\n",
    "    \n",
    "print (\"Itera.\\t|\\tXl\\t|\\tXr\\t|\\tXu\\t|\\tf(x)\\t|\\tEt\\t|\\tEa\")\n",
    "print (\"-------------------------------------------------------------\"\n",
    "      +\"---------------------------------------------\")\n",
    "while True:\n",
    "    rep += 1\n",
    "    if (xr!=0):\n",
    "        print (\"%d\\t|\\t%1.3f\\t|\\t%1.3f\\t|\\t%1.3f\\t|\\t%1.3f\\t|\\t%1.3f\\t|\\t%1.3f\" %(rep, xl, xr, xu, funcion(xr), et, ea))\n",
    "    else : \n",
    "        print (\"%d\\t|\\t%1.3f\\t|\\t%1.3f\\t|\\t%1.3f\\t|\\t--.---\\t|\\t%1.3f\\t|\\t%1.3f\" %(rep, xl, xr, xu, et, ea))\n",
    "    if (funcion(xl)*funcion(xu)<0):\n",
    "        xr = (xl+xu)/2\n",
    "        et = math.fabs(x2-xr)/xr*100\n",
    "        ea = math.fabs(xr-ante)/xr*100\n",
    "        ante = xr;\n",
    "        if (funcion(xl)*funcion(xr)<0) :\n",
    "            xu = xr\n",
    "            continue\n",
    "        if (funcion(xl)*funcion(xr)>0):\n",
    "            xl = xr\n",
    "            continue\n",
    "        if (funcion(xl)*funcion(xr)==0):\n",
    "            print (\"La raiz esta en t = %1.3f\" %(xr))\n",
    "            break\n",
    "    else :\n",
    "        break\n",
    "        \n",
    "plt.plot([-3,12], [0,0])\n",
    "plt.plot([0,0], [-15,15])\n",
    "plt.plot(tfx, fx, label='f(x)')\n",
    "plt.title(\"Velocidad del paracaidista\")\n",
    "plt.legend(loc=\"upper left\")\n",
    "plt.xlabel(\"Tiempo\")\n",
    "plt.xlim(-3, 12)\n",
    "plt.ylabel(\"Velocidad\")\n",
    "plt.ylim(-15, 15)\n",
    "plt.show()\n"
   ]
  },
  {
   "cell_type": "code",
   "execution_count": null,
   "metadata": {
    "collapsed": true
   },
   "outputs": [],
   "source": []
  }
 ],
 "metadata": {
  "kernelspec": {
   "display_name": "Python 3",
   "language": "python",
   "name": "python3"
  },
  "language_info": {
   "codemirror_mode": {
    "name": "ipython",
    "version": 3
   },
   "file_extension": ".py",
   "mimetype": "text/x-python",
   "name": "python",
   "nbconvert_exporter": "python",
   "pygments_lexer": "ipython3",
   "version": "3.5.1"
  }
 },
 "nbformat": 4,
 "nbformat_minor": 0
}
