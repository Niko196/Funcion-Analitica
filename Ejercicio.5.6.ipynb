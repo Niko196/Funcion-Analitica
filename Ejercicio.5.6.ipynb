{
 "cells": [
  {
   "cell_type": "code",
   "execution_count": 19,
   "metadata": {
    "collapsed": false
   },
   "outputs": [
    {
     "name": "stdout",
     "output_type": "stream",
     "text": [
      "Itera.\t|\tXl\t|\tXr\t|\tXu\t|\tf(x)\n",
      "----------------------------------------------------------------------------------------\n",
      "0\t|\t0.500\t|\t0.000\t|\t2.000\t|\t--.---\n",
      "1\t|\t0.500\t|\t1.250\t|\t1.250\t|\t0.241\n",
      "2\t|\t0.875\t|\t0.875\t|\t1.250\t|\t-0.131\n",
      "3\t|\t0.875\t|\t1.062\t|\t1.062\t|\t0.056\n",
      "Por Biseccion, la raiz esta en t = 0.969\n",
      "\n",
      "Itera.\t|\tXl\t|\tXr\t|\tXu\t|\tf(x)\n",
      "--------------------------------------------------------------------------------\n",
      "0\t|\t0.500\t|\t0.000\t|\t2.000\t|\t--.---\n",
      "1\t|\t0.500\t|\t1.016\t|\t1.016\t|\t0.009\n",
      "2\t|\t1.006\t|\t1.006\t|\t1.016\t|\t-0.001\n",
      "3\t|\t1.006\t|\t1.007\t|\t1.007\t|\t0.000\n",
      "Por Falsa Posicion, la raiz esta en t = 1.007\n"
     ]
    }
   ],
   "source": [
    "import matplotlib.pyplot as plt\n",
    "import math\n",
    "\n",
    "\n",
    "def funcion(x) :\n",
    "    return math.log1p(math.pow(x,2))-0.7\n",
    "\n",
    "xl, xu, xr = 0.5, 2.0, 0.0 \n",
    "rep = -1 \n",
    "fx, tfx = [], range(-5, 6)\n",
    "for i in tfx:\n",
    "    fx.append(funcion(i))\n",
    "    \n",
    "print (\"Itera.\\t|\\tXl\\t|\\tXr\\t|\\tXu\\t|\\tf(x)\")\n",
    "print (\"--------------------------------------------\"\n",
    "      +\"--------------------------------------------\")\n",
    "while True:\n",
    "    rep += 1\n",
    "    if (xr!=0):\n",
    "        print (\"%d\\t|\\t%1.3f\\t|\\t%1.3f\\t|\\t%1.3f\\t|\\t%1.3f\" %(rep, xl, xr, xu, funcion(xr)))\n",
    "    else : \n",
    "        print (\"%d\\t|\\t%1.3f\\t|\\t%1.3f\\t|\\t%1.3f\\t|\\t--.---\" %(rep, xl, xr, xu))\n",
    "    if (funcion(xl)*funcion(xu)<0):\n",
    "        xr = (xl+xu)/2\n",
    "        if (funcion(xl)*funcion(xr)<0) :\n",
    "            xu = xr\n",
    "        else : \n",
    "            if (funcion(xl)*funcion(xr)>0):\n",
    "                xl = xr\n",
    "        if (rep==3):\n",
    "            print (\"Por Biseccion, la raiz esta en t = %1.3f\" %(xr))\n",
    "            break\n",
    "    else :\n",
    "        break\n",
    "        \n",
    "plt.plot([-5, 5], [0,0])\n",
    "plt.plot([0,0], [-5, 5])\n",
    "plt.plot(tfx, fx, label='f(x)')\n",
    "plt.title(\"Velocidad del paracaidista\")\n",
    "plt.legend(loc=\"upper left\")\n",
    "plt.xlabel(\"Tiempo\")\n",
    "plt.xlim(-5, 5)\n",
    "plt.ylabel(\"Velocidad\")\n",
    "plt.ylim(-5, 5)\n",
    "plt.show()\n",
    "\n",
    "print()\n",
    "\n",
    "xl, xu, xr = 0.5, 2.0, 0.0 \n",
    "rep = -1 \n",
    "print (\"Itera.\\t|\\tXl\\t|\\tXr\\t|\\tXu\\t|\\tf(x)\")\n",
    "print (\"----------------------------------------\"\n",
    "      +\"----------------------------------------\")\n",
    "while True:\n",
    "    rep += 1\n",
    "    if (xr!=0):\n",
    "        print (\"%d\\t|\\t%1.3f\\t|\\t%1.3f\\t|\\t%1.3f\\t|\\t%1.3f\" %(rep, xl, xr, xu, funcion(xr)))\n",
    "    else : \n",
    "        print (\"%d\\t|\\t%1.3f\\t|\\t%1.3f\\t|\\t%1.3f\\t|\\t--.---\" %(rep, xl, xr, xu))\n",
    "    if (funcion(xl)*funcion(xu)<0):\n",
    "        xr = (xu-((funcion(xu)*(xl-xu))/(funcion(xl)-funcion(xu))))\n",
    "        if (funcion(xl)*funcion(xr)<0) :\n",
    "            xu = xr\n",
    "        else : \n",
    "            if (funcion(xl)*funcion(xr)>0):\n",
    "                xl = xr\n",
    "        if (rep==3):\n",
    "            print (\"Por Falsa Posicion, la raiz esta en t = %1.3f\" %(xr))\n",
    "            break\n",
    "    else :\n",
    "        break"
   ]
  },
  {
   "cell_type": "code",
   "execution_count": null,
   "metadata": {
    "collapsed": true
   },
   "outputs": [],
   "source": []
  }
 ],
 "metadata": {
  "kernelspec": {
   "display_name": "Python 3",
   "language": "python",
   "name": "python3"
  },
  "language_info": {
   "codemirror_mode": {
    "name": "ipython",
    "version": 3
   },
   "file_extension": ".py",
   "mimetype": "text/x-python",
   "name": "python",
   "nbconvert_exporter": "python",
   "pygments_lexer": "ipython3",
   "version": "3.5.1"
  }
 },
 "nbformat": 4,
 "nbformat_minor": 0
}
