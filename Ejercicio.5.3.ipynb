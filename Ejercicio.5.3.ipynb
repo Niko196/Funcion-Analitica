{
 "cells": [
  {
   "cell_type": "code",
   "execution_count": 1,
   "metadata": {
    "collapsed": false
   },
   "outputs": [
    {
     "name": "stdout",
     "output_type": "stream",
     "text": [
      "Itera.\t|\tXl\t|\tXr\t|\tXu\t|\tf(x)\t|\tEa\t|\tEs\n",
      "----------------------------------------------------------------------------------------------------\n",
      "0\t|\t0.500\t|\t0.000\t|\t1.000\t|\t--.---\t|\t0.000\t|\t10.000\n",
      "La raiz esta en t = 0.000\n",
      "\n",
      "Itera.\t|\tXl\t|\tXr\t|\tXu\t|\tf(x)\t|\tEa\t|\tEs\n",
      "----------------------------------------------------------------------------------------------------\n",
      "0\t|\t0.500\t|\t0.000\t|\t1.000\t|\t--.---\t|\t0.000\t|\t0.200\n",
      "La raiz esta en t = 0.000\n"
     ]
    }
   ],
   "source": [
    "import matplotlib.pyplot as plt\n",
    "import math\n",
    "\n",
    "\n",
    "def funcion(x) :\n",
    "    return (a*x+b*(x**2)+c*(x**3)+d*(x**4)+e*(x**5))\n",
    "\n",
    "a, b, c, d, e = -25182.0, -90.0, 44.0, -8.0, 0.7\n",
    "xl, xu, xr = 0.5, 1.0, 0.0\n",
    "ea, ante, es = 0.0, 0.0, 10.0\n",
    "rep = -1 \n",
    "fx, tfx = [], [0,0.1,0.2,0.3,0.4,0.5]\n",
    "for i in tfx:\n",
    "    fx.append(funcion(i))\n",
    "    \n",
    "print (\"Itera.\\t|\\tXl\\t|\\tXr\\t|\\tXu\\t|\\tf(x)\\t|\\tEa\\t|\\tEs\")\n",
    "print (\"-------------------------------------------------------\"\n",
    "      +\"---------------------------------------------\")\n",
    "while True:\n",
    "    rep += 1\n",
    "    if (xr!=0):\n",
    "        print (\"%d\\t|\\t%1.3f\\t|\\t%1.3f\\t|\\t%1.3f\\t|\\t%1.3f\\t|\\t%1.3f\\t|\\t%1.3f\" %(rep, xl, xr, xu, funcion(xr), ea, es))\n",
    "    else : \n",
    "        print (\"%d\\t|\\t%1.3f\\t|\\t%1.3f\\t|\\t%1.3f\\t|\\t--.---\\t|\\t%1.3f\\t|\\t%1.3f\" %(rep, xl, xr, xu, ea, es))\n",
    "    if (funcion(xl)*funcion(xu)<0):  ##No se cumple esta condicion\n",
    "        xr = (xl+xu)/2\n",
    "        ea = math.fabs(xr-ante)/xr*100\n",
    "        ante = xr;\n",
    "        if (funcion(xl)*funcion(xr)<0) :\n",
    "            xu = xr\n",
    "        else : \n",
    "            if (funcion(xl)*funcion(xr)>0):\n",
    "                xl = xr\n",
    "        if (ea<es):\n",
    "            rep+=1\n",
    "            print (\"%d\\t|\\t%1.3f\\t|\\t%1.3f\\t|\\t%1.3f\\t|\\t%1.3f\\t|\\t%1.3f\\t|\\t%1.3f\" %(rep, xl, xr, xu, funcion(xr), ea, es))\n",
    "            break\n",
    "    else :\n",
    "        break\n",
    "print (\"La raiz esta en t = %1.3f\" %(xr))\n",
    "        \n",
    "plt.plot([-10, 10], [0,0])\n",
    "plt.plot([0,0], [1000,-15000])\n",
    "plt.plot(tfx, fx, label='f(x)')\n",
    "plt.title(\"Velocidad del paracaidista\")\n",
    "plt.legend(loc=\"upper left\")\n",
    "plt.xlabel(\"Tiempo\")\n",
    "plt.xlim(-10, 10)\n",
    "plt.ylabel(\"Velocidad\")\n",
    "plt.ylim(-15000, 1000)\n",
    "plt.show()\n",
    "\n",
    "print()\n",
    "\n",
    "xl, xu, xr = 0.5, 1.0, 0.0\n",
    "ea, ante, es = 0.0, 0.0, 0.2\n",
    "rep = -1 \n",
    "print (\"Itera.\\t|\\tXl\\t|\\tXr\\t|\\tXu\\t|\\tf(x)\\t|\\tEa\\t|\\tEs\")\n",
    "print (\"-------------------------------------------------------\"\n",
    "      +\"---------------------------------------------\")\n",
    "while True:\n",
    "    rep += 1\n",
    "    if (xr!=0):\n",
    "        print (\"%d\\t|\\t%1.3f\\t|\\t%1.3f\\t|\\t%1.3f\\t|\\t%1.3f\\t|\\t%1.3f\\t|\\t%1.3f\" %(rep, xl, xr, xu, funcion(xr), ea, es))\n",
    "    else : \n",
    "        print (\"%d\\t|\\t%1.3f\\t|\\t%1.3f\\t|\\t%1.3f\\t|\\t--.---\\t|\\t%1.3f\\t|\\t%1.3f\" %(rep, xl, xr, xu, ea, es))\n",
    "    if (funcion(xl)*funcion(xu)<0):\n",
    "        xr = (xu-((funcion(xu)*(xl-xu))/(funcion(xl)-funcion(xu))))\n",
    "        ea = math.fabs(xr-ante)/xr*100\n",
    "        ante = xr;\n",
    "        if (funcion(xl)*funcion(xr)<0) :\n",
    "            xu = xr\n",
    "        else : \n",
    "            if (funcion(xl)*funcion(xr)>0):\n",
    "                xl = xr\n",
    "        if (ea<es):\n",
    "            rep+=1\n",
    "            print (\"%d\\t|\\t%1.3f\\t|\\t%1.3f\\t|\\t%1.3f\\t|\\t%1.3f\\t|\\t%1.3f\\t|\\t%1.3f\" %(rep, xl, xr, xu, funcion(xr), ea, es))\n",
    "            break\n",
    "    else :\n",
    "        break\n",
    "print (\"La raiz esta en t = %1.3f\" %(xr))"
   ]
  },
  {
   "cell_type": "code",
   "execution_count": null,
   "metadata": {
    "collapsed": true
   },
   "outputs": [],
   "source": []
  }
 ],
 "metadata": {
  "kernelspec": {
   "display_name": "Python 3",
   "language": "python",
   "name": "python3"
  },
  "language_info": {
   "codemirror_mode": {
    "name": "ipython",
    "version": 3
   },
   "file_extension": ".py",
   "mimetype": "text/x-python",
   "name": "python",
   "nbconvert_exporter": "python",
   "pygments_lexer": "ipython3",
   "version": "3.5.1"
  }
 },
 "nbformat": 4,
 "nbformat_minor": 0
}
