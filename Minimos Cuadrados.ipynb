{
 "cells": [
  {
   "cell_type": "code",
   "execution_count": 15,
   "metadata": {
    "collapsed": false
   },
   "outputs": [
    {
     "name": "stdout",
     "output_type": "stream",
     "text": [
      "La sumatoria de xi: 28\n",
      "La sumatoria de yi: 24.0\n",
      "La media de xi es: 4.0\n",
      "La media de yi es: 3.4285714285714284\n",
      "Sumatoria de producto: 119.5\n",
      "sumatoria de cuadrado de xi: 140\n",
      "a0: 0.07142857142857117\n",
      "a1: 0.8392857142857143\n"
     ]
    },
    {
     "data": {
      "image/png": "[encoded data removed]",
      "text/plain": [
       "<matplotlib.figure.Figure at 0x22659a217f0>"
      ]
     },
     "metadata": {},
     "output_type": "display_data"
    },
    {
     "name": "stdout",
     "output_type": "stream",
     "text": [
      "xi\t|\tyi\t|\t(yi-mediaY)^2\t\t|\tyi-a0-a1*xi)^2\n",
      "----------------------------------------------------------------------------\n",
      "1\t|\t0.5\t|\t8.576530612244897\t|\t0.16868622448979573\n",
      "2\t|\t2.5\t|\t0.8622448979591834\t|\t0.5625000000000003\n",
      "3\t|\t2.0\t|\t2.040816326530612\t|\t0.34725765306122414\n",
      "4\t|\t4.0\t|\t0.32653061224489816\t|\t0.32653061224489816\n",
      "5\t|\t3.5\t|\t0.005102040816326558\t|\t0.5896045918367339\n",
      "6\t|\t6.0\t|\t6.612244897959185\t|\t0.7971938775510211\n",
      "7\t|\t5.5\t|\t4.290816326530613\t|\t0.19929846938775486\n"
     ]
    }
   ],
   "source": [
    "import math\n",
    "import matplotlib.pyplot as plt\n",
    "%matplotlib inline\n",
    "\n",
    "xi, yi, dif, minimos, function, valores, tabla = [1,2,3,4,5,6,7], [0.5,2.5,2.0,4.0,3.5,6.0,5.5], [], [], [], [], []\n",
    "n, sumaX, sumaY, sumPro, cuadrado = len(xi), 0, 0, 0, 0\n",
    "\n",
    "#media de xi y yi\n",
    "for i in range(n):\n",
    "    sumaX += xi[i]\n",
    "    sumaY += yi[i] \n",
    "    cuadrado += xi[i]**2\n",
    "    sumPro += xi[i]*yi[i]\n",
    "\n",
    "print (\"La sumatoria de xi: \"+str(sumaX))\n",
    "print (\"La sumatoria de yi: \"+str(sumaY))\n",
    "print (\"La media de xi es: \"+str(sumaX/len(xi)))\n",
    "print (\"La media de yi es: \"+str(sumaY/len(yi)))\n",
    "print (\"Sumatoria de producto: \"+str(sumPro))\n",
    "print (\"sumatoria de cuadrado de xi: \"+str(cuadrado))\n",
    "\n",
    "a1=((n*sumPro)-(sumaX*sumaY))/((n*cuadrado)-(math.pow(sumaX,2)))\n",
    "a0=(sumaY/len(yi))-(a1*(sumaX/len(xi)))\n",
    "print (\"a0: \"+str(a0))\n",
    "print (\"a1: \"+str(a1))\n",
    "       \n",
    "for i in range(n):\n",
    "    aux=(yi[i]-(sumaY/len(yi)))**2\n",
    "    dif.append(aux)\n",
    "    min=(yi[i]-a0-(a1*xi[i]))**2\n",
    "    minimos.append(min)\n",
    "\n",
    "for i in range(n+1):\n",
    "    funcion=a0+(a1*i)\n",
    "    function.append(funcion)\n",
    "    valores.append(i)\n",
    "\n",
    "plt.title(\"Regresion por minimos cuadrados\")\n",
    "plt.grid(True)\n",
    "plt.axis([0,10,0,7])\n",
    "plt.ylabel('Ajuste por minimos cuadrados')\n",
    "plt.xlabel('x')\n",
    "plt.plot(xi, yi, 'ro', label=\"Valores iniciales\")\n",
    "plt.plot(valores, function, '-',  label=(\"y=%1.4f+%1.4fx\" %(a0, a1)))\n",
    "plt.legend(loc = 'lower right', numpoints = 2)\n",
    "plt.show()\n",
    "\n",
    "print (\"xi\\t|\\tyi\\t|\\t(yi-mediaY)^2\\t\\t|\\tyi-a0-a1*xi)^2\")\n",
    "print (\"----------------------------------------------------------------------------\")\n",
    "for i in range(n):\n",
    "    print (str(xi[i])+\"\\t|\\t\"+str(yi[i])+\"\\t|\\t\"+str(dif[i])+\"\\t|\\t\"+str(minimos[i]))\n"
   ]
  },
  {
   "cell_type": "code",
   "execution_count": null,
   "metadata": {
    "collapsed": true
   },
   "outputs": [],
   "source": []
  }
 ],
 "metadata": {
  "kernelspec": {
   "display_name": "Python 3",
   "language": "python",
   "name": "python3"
  },
  "language_info": {
   "codemirror_mode": {
    "name": "ipython",
    "version": 3
   },
   "file_extension": ".py",
   "mimetype": "text/x-python",
   "name": "python",
   "nbconvert_exporter": "python",
   "pygments_lexer": "ipython3",
   "version": "3.5.1"
  }
 },
 "nbformat": 4,
 "nbformat_minor": 0
}
