{
 "cells": [
  {
   "cell_type": "markdown",
   "metadata": {},
   "source": [
    "#  El método gráﬁ co de las dos curvas"
   ]
  },
  {
   "cell_type": "code",
   "execution_count": 17,
   "metadata": {
    "collapsed": false
   },
   "outputs": [
    {
     "name": "stdout",
     "output_type": "stream",
     "text": [
      "i\t|\tX\t\t|\tY1\t|\tY2\n",
      "-------------------------------------------------------\n",
      "0\t|\t0.00\t|\t0.00\t|\t1.00\n",
      "1\t|\t0.10\t|\t0.10\t|\t0.90\n",
      "2\t|\t0.20\t|\t0.20\t|\t0.82\n",
      "3\t|\t0.30\t|\t0.30\t|\t0.74\n",
      "4\t|\t0.40\t|\t0.40\t|\t0.67\n",
      "5\t|\t0.50\t|\t0.50\t|\t0.61\n",
      "6\t|\t0.60\t|\t0.60\t|\t0.55\n",
      "7\t|\t0.70\t|\t0.70\t|\t0.50\n",
      "8\t|\t0.80\t|\t0.80\t|\t0.45\n",
      "9\t|\t0.90\t|\t0.90\t|\t0.41\n",
      "10\t|\t1.00\t|\t1.00\t|\t0.37\n"
     ]
    }
   ],
   "source": [
    "import matplotlib.pyplot as plt\n",
    "import math\n",
    "\n",
    "def funcion (x):\n",
    "    return (e**(-x)-x)\n",
    "def Y1 (x):\n",
    "    return (x)\n",
    "def Y2 (x):\n",
    "    return (e**(-x))\n",
    "\n",
    "e, rep, ite = 2.718, 0, 0\n",
    "print(\"i\\t|\\tX\\t\\t|\\tY1\\t|\\tY2\")\n",
    "print (\"-------------------------------------------------------\")\n",
    "xg, x, y1, y2, cruce = [], [], [], [], []\n",
    "while rep<=1.0:\n",
    "    x.append(rep)\n",
    "    xg.append(funcion(rep))\n",
    "    y1.append(Y1(rep))\n",
    "    y2.append(Y2(rep))\n",
    "    print(\"%d\\t|\\t%1.2f\\t|\\t%1.2f\\t|\\t%1.2f\" %(ite, rep, y1[ite], y2[ite]))\n",
    "    ite += 1\n",
    "    rep +=0.1\n",
    "plt.plot([-0.2,1], [0,0])\n",
    "plt.plot([0,0], [-1,1])\n",
    "plt.plot(x, xg, label='f(x)')\n",
    "plt.plot(x, y1, label='Y1')\n",
    "plt.plot(x, y2, label='Y2')\n",
    "plt.plot([0.57,0.57], [-2,1])\n",
    "plt.title(\"El método gráﬁco de las dos curvas \")\n",
    "plt.legend(loc=\"upper left\")\n",
    "plt.xlabel(\"X\")\n",
    "plt.xlim(-0.2, 1)\n",
    "plt.ylabel(\"Y\")\n",
    "plt.ylim(-0.2, 1)\n",
    "plt.show()"
   ]
  },
  {
   "cell_type": "code",
   "execution_count": null,
   "metadata": {
    "collapsed": true
   },
   "outputs": [],
   "source": []
  }
 ],
 "metadata": {
  "kernelspec": {
   "display_name": "Python 3",
   "language": "python",
   "name": "python3"
  },
  "language_info": {
   "codemirror_mode": {
    "name": "ipython",
    "version": 3
   },
   "file_extension": ".py",
   "mimetype": "text/x-python",
   "name": "python",
   "nbconvert_exporter": "python",
   "pygments_lexer": "ipython3",
   "version": "3.5.1"
  }
 },
 "nbformat": 4,
 "nbformat_minor": 0
}
