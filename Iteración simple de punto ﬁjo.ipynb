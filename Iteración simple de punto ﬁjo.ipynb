{
 "cells": [
  {
   "cell_type": "markdown",
   "metadata": {},
   "source": [
    "#  Iteración simple de punto ﬁjo"
   ]
  },
  {
   "cell_type": "code",
   "execution_count": 6,
   "metadata": {
    "collapsed": false
   },
   "outputs": [
    {
     "name": "stdout",
     "output_type": "stream",
     "text": [
      "i\t|\tXi\t\t|\tEa\n",
      "----------------------------------------------\n",
      "0\t|\t0.000000\t|\t0.00\n",
      "1\t|\t1.000000\t|\t100.00\n",
      "2\t|\t0.367918\t|\t171.80\n",
      "3\t|\t0.692201\t|\t46.85\n",
      "4\t|\t0.500509\t|\t38.30\n",
      "5\t|\t0.606253\t|\t17.44\n",
      "6\t|\t0.545425\t|\t11.15\n",
      "7\t|\t0.579628\t|\t5.90\n",
      "8\t|\t0.560140\t|\t3.48\n",
      "9\t|\t0.571162\t|\t1.93\n",
      "10\t|\t0.564902\t|\t1.11\n"
     ]
    }
   ],
   "source": [
    "import math\n",
    "\n",
    "def funcion (x):\n",
    "    return (e**(-x))\n",
    "\n",
    "def error(x1, xi):\n",
    "    return (math.fabs((x1-xi)/x1)*100)\n",
    "\n",
    "e, ea, xi, x1, rep = 2.718, 0, 0, 0, 0\n",
    "print(\"i\\t|\\tXi\\t\\t|\\tEa\")\n",
    "print (\"----------------------------------------------\")\n",
    "while rep<=10:\n",
    "    print(\"%d\\t|\\t%f\\t|\\t%1.2f\" %(rep, x1, ea))\n",
    "    x1 = funcion(xi)\n",
    "    ea = error(x1, xi)\n",
    "    xi = x1\n",
    "    rep +=1"
   ]
  },
  {
   "cell_type": "code",
   "execution_count": null,
   "metadata": {
    "collapsed": true
   },
   "outputs": [],
   "source": []
  }
 ],
 "metadata": {
  "kernelspec": {
   "display_name": "Python 3",
   "language": "python",
   "name": "python3"
  },
  "language_info": {
   "codemirror_mode": {
    "name": "ipython",
    "version": 3
   },
   "file_extension": ".py",
   "mimetype": "text/x-python",
   "name": "python",
   "nbconvert_exporter": "python",
   "pygments_lexer": "ipython3",
   "version": "3.5.1"
  }
 },
 "nbformat": 4,
 "nbformat_minor": 0
}
