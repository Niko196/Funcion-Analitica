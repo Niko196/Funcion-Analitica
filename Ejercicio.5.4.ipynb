{
 "cells": [
  {
   "cell_type": "code",
   "execution_count": 10,
   "metadata": {
    "collapsed": false
   },
   "outputs": [
    {
     "name": "stdout",
     "output_type": "stream",
     "text": [
      "Itera.\t|\tXl\t|\tXr\t|\tXu\t|\tf(x)\t|\tEa\t|\tEs\n",
      "----------------------------------------------------------------------------------------------------\n",
      "0\t|\t-5.000\t|\t0.000\t|\t8.000\t|\t--.---\t|\t0.000\t|\t0.050\n",
      "1\t|\t3.715\t|\t3.715\t|\t8.000\t|\t17.41\t|\t100.000\t|\t0.050\n",
      "2\t|\t3.880\t|\t3.880\t|\t8.000\t|\t16.87\t|\t4.241\t|\t0.050\n",
      "3\t|\t4.033\t|\t4.033\t|\t8.000\t|\t15.69\t|\t3.806\t|\t0.050\n",
      "4\t|\t4.171\t|\t4.171\t|\t8.000\t|\t14.01\t|\t3.303\t|\t0.050\n",
      "5\t|\t4.290\t|\t4.290\t|\t8.000\t|\t12.06\t|\t2.779\t|\t0.050\n",
      "6\t|\t4.390\t|\t4.390\t|\t8.000\t|\t10.05\t|\t2.275\t|\t0.050\n",
      "7\t|\t4.471\t|\t4.471\t|\t8.000\t|\t8.14\t|\t1.819\t|\t0.050\n",
      "8\t|\t4.536\t|\t4.536\t|\t8.000\t|\t6.45\t|\t1.426\t|\t0.050\n",
      "9\t|\t4.586\t|\t4.586\t|\t8.000\t|\t5.01\t|\t1.100\t|\t0.050\n",
      "10\t|\t4.625\t|\t4.625\t|\t8.000\t|\t3.84\t|\t0.839\t|\t0.050\n",
      "11\t|\t4.655\t|\t4.655\t|\t8.000\t|\t2.91\t|\t0.633\t|\t0.050\n",
      "12\t|\t4.677\t|\t4.677\t|\t8.000\t|\t2.19\t|\t0.474\t|\t0.050\n",
      "13\t|\t4.693\t|\t4.693\t|\t8.000\t|\t1.63\t|\t0.353\t|\t0.050\n",
      "14\t|\t4.706\t|\t4.706\t|\t8.000\t|\t1.21\t|\t0.262\t|\t0.050\n",
      "15\t|\t4.715\t|\t4.715\t|\t8.000\t|\t0.90\t|\t0.194\t|\t0.050\n",
      "16\t|\t4.722\t|\t4.722\t|\t8.000\t|\t0.66\t|\t0.143\t|\t0.050\n",
      "17\t|\t4.727\t|\t4.727\t|\t8.000\t|\t0.49\t|\t0.105\t|\t0.050\n",
      "18\t|\t4.730\t|\t4.730\t|\t8.000\t|\t0.36\t|\t0.077\t|\t0.050\n",
      "19\t|\t4.733\t|\t4.733\t|\t8.000\t|\t0.26\t|\t0.057\t|\t0.050\n",
      "20\t|\t4.735\t|\t4.735\t|\t8.000\t|\t0.194\t|\t0.042\t|\t0.050\n",
      "La raiz esta en t = 4.735\n"
     ]
    }
   ],
   "source": [
    "import matplotlib.pyplot as plt\n",
    "import math\n",
    "\n",
    "\n",
    "def funcion(x) :\n",
    "    return (a+b*x+c*(x**2)+d*(x**3))\n",
    "\n",
    "a, b, c, d = -12.0, -21.0, 18.0, -2.75\n",
    "xl, xu, xr = -5, 8, 0.0\n",
    "ea, ante, es = 0.0, 0.0, (0.5*10**(2-3))\n",
    "rep = -1 \n",
    "fx, tfx = [], range (-5, 8)\n",
    "for i in tfx:\n",
    "    fx.append(funcion(i))\n",
    "print (\"Itera.\\t|\\tXl\\t|\\tXr\\t|\\tXu\\t|\\tf(x)\\t|\\tEa\\t|\\tEs\")\n",
    "print (\"-------------------------------------------------------\"\n",
    "      +\"---------------------------------------------\")\n",
    "while True:\n",
    "    rep += 1\n",
    "    if (xr!=0):\n",
    "        print (\"%d\\t|\\t%1.3f\\t|\\t%1.3f\\t|\\t%1.3f\\t|\\t%1.2f\\t|\\t%1.3f\\t|\\t%1.3f\" %(rep, xl, xr, xu, funcion(xr), ea, es))\n",
    "    else : \n",
    "        print (\"%d\\t|\\t%1.3f\\t|\\t%1.3f\\t|\\t%1.3f\\t|\\t--.---\\t|\\t%1.3f\\t|\\t%1.3f\" %(rep, xl, xr, xu, ea, es))\n",
    "    if (funcion(xl)*funcion(xu)<0):\n",
    "        xr = (xu-((funcion(xu)*(xl-xu))/(funcion(xl)-funcion(xu))))\n",
    "        ea = math.fabs(xr-ante)/xr*100\n",
    "        ante = xr;\n",
    "        if (funcion(xl)*funcion(xr)<0) :\n",
    "            xu = xr\n",
    "        else : \n",
    "            if (funcion(xl)*funcion(xr)>0):\n",
    "                xl = xr\n",
    "        if (ea<es):\n",
    "            rep+=1\n",
    "            print (\"%d\\t|\\t%1.3f\\t|\\t%1.3f\\t|\\t%1.3f\\t|\\t%1.3f\\t|\\t%1.3f\\t|\\t%1.3f\" %(rep, xl, xr, xu, funcion(xr), ea, es))\n",
    "            break\n",
    "    else :\n",
    "        break\n",
    "print (\"La raiz esta en t = %1.3f\" %(xr))\n",
    "        \n",
    "plt.plot([-5, 8], [0,0])\n",
    "plt.plot([0,0], [-20,20])\n",
    "plt.plot(tfx, fx, label='f(x)')\n",
    "plt.title(\"Velocidad del paracaidista\")\n",
    "plt.legend(loc=\"upper left\")\n",
    "plt.xlabel(\"Tiempo\")\n",
    "plt.xlim(-5, 8)\n",
    "plt.ylabel(\"Velocidad\")\n",
    "plt.ylim(-20, 20)\n",
    "plt.show()"
   ]
  },
  {
   "cell_type": "code",
   "execution_count": null,
   "metadata": {
    "collapsed": true
   },
   "outputs": [],
   "source": []
  }
 ],
 "metadata": {
  "kernelspec": {
   "display_name": "Python 3",
   "language": "python",
   "name": "python3"
  },
  "language_info": {
   "codemirror_mode": {
    "name": "ipython",
    "version": 3
   },
   "file_extension": ".py",
   "mimetype": "text/x-python",
   "name": "python",
   "nbconvert_exporter": "python",
   "pygments_lexer": "ipython3",
   "version": "3.5.1"
  }
 },
 "nbformat": 4,
 "nbformat_minor": 0
}
