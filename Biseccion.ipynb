{
 "cells": [
  {
   "cell_type": "markdown",
   "metadata": {},
   "source": [
    "# Metodo de biseccion\n",
    "## Aplicado al paracaidista"
   ]
  },
  {
   "cell_type": "code",
   "execution_count": 14,
   "metadata": {
    "collapsed": false
   },
   "outputs": [
    {
     "name": "stdout",
     "output_type": "stream",
     "text": [
      "Itera.\t|\tXu\t\t|\tXl\t\t|\tXr\t\t|\tF(c)\n",
      "----------------------------------------------------------------------------------------\n",
      "1\t|\t20.000000\t|\t11.000000\t|\t11.000000\t|\t8.605288\n",
      "2\t|\t15.500000\t|\t11.000000\t|\t15.500000\t|\t-1.365663\n",
      "3\t|\t15.500000\t|\t13.250000\t|\t13.250000\t|\t3.169636\n",
      "4\t|\t15.500000\t|\t14.375000\t|\t14.375000\t|\t0.801432\n",
      "5\t|\t14.937500\t|\t14.375000\t|\t14.937500\t|\t-0.305910\n",
      "6\t|\t14.937500\t|\t14.656250\t|\t14.656250\t|\t0.241650\n",
      "7\t|\t14.796875\t|\t14.656250\t|\t14.796875\t|\t-0.033637\n",
      "8\t|\t14.796875\t|\t14.726562\t|\t14.726562\t|\t0.103627\n",
      "9\t|\t14.796875\t|\t14.761719\t|\t14.761719\t|\t0.034901\n",
      "10\t|\t14.796875\t|\t14.779297\t|\t14.779297\t|\t0.000608\n",
      "11\t|\t14.788086\t|\t14.779297\t|\t14.788086\t|\t-0.016520\n",
      "12\t|\t14.783691\t|\t14.779297\t|\t14.783691\t|\t-0.007958\n",
      "13\t|\t14.781494\t|\t14.779297\t|\t14.781494\t|\t-0.003675\n",
      "14\t|\t14.780396\t|\t14.779297\t|\t14.780396\t|\t-0.001534\n",
      "15\t|\t14.779846\t|\t14.779297\t|\t14.779846\t|\t-0.000463\n",
      "16\t|\t14.779846\t|\t14.779572\t|\t14.779572\t|\t0.000073\n",
      "17\t|\t14.779709\t|\t14.779572\t|\t14.779709\t|\t-0.000195\n",
      "18\t|\t14.779640\t|\t14.779572\t|\t14.779640\t|\t-0.000061\n",
      "19\t|\t14.779640\t|\t14.779606\t|\t14.779606\t|\t0.000006\n",
      "20\t|\t14.779623\t|\t14.779606\t|\t14.779623\t|\t-0.000028\n",
      "21\t|\t14.779614\t|\t14.779606\t|\t14.779614\t|\t-0.000011\n",
      "22\t|\t14.779610\t|\t14.779606\t|\t14.779610\t|\t-0.000003\n",
      "23\t|\t14.779610\t|\t14.779608\t|\t14.779608\t|\t0.000002\n",
      "24\t|\t14.779609\t|\t14.779608\t|\t14.779609\t|\t-0.000000\n",
      "25\t|\t14.779609\t|\t14.779609\t|\t14.779609\t|\t0.000001\n",
      "26\t|\t14.779609\t|\t14.779609\t|\t14.779609\t|\t0.000000\n",
      "27\t|\t14.779609\t|\t14.779609\t|\t14.779609\t|\t-0.000000\n",
      "28\t|\t14.779609\t|\t14.779609\t|\t14.779609\t|\t-0.000000\n",
      "29\t|\t14.779609\t|\t14.779609\t|\t14.779609\t|\t0.000000\n",
      "30\t|\t14.779609\t|\t14.779609\t|\t14.779609\t|\t-0.000000\n",
      "31\t|\t14.779609\t|\t14.779609\t|\t14.779609\t|\t-0.000000\n",
      "32\t|\t14.779609\t|\t14.779609\t|\t14.779609\t|\t-0.000000\n",
      "33\t|\t14.779609\t|\t14.779609\t|\t14.779609\t|\t-0.000000\n",
      "34\t|\t14.779609\t|\t14.779609\t|\t14.779609\t|\t0.000000\n",
      "35\t|\t14.779609\t|\t14.779609\t|\t14.779609\t|\t-0.000000\n",
      "36\t|\t14.779609\t|\t14.779609\t|\t14.779609\t|\t-0.000000\n",
      "37\t|\t14.779609\t|\t14.779609\t|\t14.779609\t|\t-0.000000\n",
      "38\t|\t14.779609\t|\t14.779609\t|\t14.779609\t|\t0.000000\n",
      "39\t|\t14.779609\t|\t14.779609\t|\t14.779609\t|\t-0.000000\n",
      "40\t|\t14.779609\t|\t14.779609\t|\t14.779609\t|\t0.000000\n",
      "41\t|\t14.779609\t|\t14.779609\t|\t14.779609\t|\t0.000000\n",
      "42\t|\t14.779609\t|\t14.779609\t|\t14.779609\t|\t-0.000000\n",
      "43\t|\t14.779609\t|\t14.779609\t|\t14.779609\t|\t-0.000000\n",
      "44\t|\t14.779609\t|\t14.779609\t|\t14.779609\t|\t0.000000\n",
      "45\t|\t14.779609\t|\t14.779609\t|\t14.779609\t|\t-0.000000\n",
      "46\t|\t14.779609\t|\t14.779609\t|\t14.779609\t|\t-0.000000\n",
      "47\t|\t14.779609\t|\t14.779609\t|\t14.779609\t|\t-0.000000\n",
      "48\t|\t14.779609\t|\t14.779609\t|\t14.779609\t|\t0.000000\n",
      "49\t|\t14.779609\t|\t14.779609\t|\t14.779609\t|\t0.000000\n",
      "50\t|\t14.779609\t|\t14.779609\t|\t14.779609\t|\t0.000000\n",
      "51\t|\t14.779609\t|\t14.779609\t|\t14.779609\t|\t-0.000000\n",
      "52\t|\t14.779609\t|\t14.779609\t|\t14.779609\t|\t-0.000000\n"
     ]
    },
    {
     "ename": "ValueError",
     "evalue": "x and y must have same first dimension",
     "output_type": "error",
     "traceback": [
      "\u001b[1;31m---------------------------------------------------------------------------\u001b[0m",
      "\u001b[1;31mValueError\u001b[0m                                Traceback (most recent call last)",
      "\u001b[1;32m<ipython-input-14-ab692d91f47b>\u001b[0m in \u001b[0;36m<module>\u001b[1;34m()\u001b[0m\n\u001b[0;32m     27\u001b[0m     \u001b[1;32melse\u001b[0m \u001b[1;33m:\u001b[0m\u001b[1;33m\u001b[0m\u001b[0m\n\u001b[0;32m     28\u001b[0m         \u001b[1;32mbreak\u001b[0m\u001b[1;33m\u001b[0m\u001b[0m\n\u001b[1;32m---> 29\u001b[1;33m \u001b[0mplt\u001b[0m\u001b[1;33m.\u001b[0m\u001b[0mplot\u001b[0m\u001b[1;33m(\u001b[0m\u001b[0mt\u001b[0m\u001b[1;33m,\u001b[0m \u001b[0mx\u001b[0m\u001b[1;33m,\u001b[0m \u001b[1;34m'bo'\u001b[0m\u001b[1;33m,\u001b[0m \u001b[0mlabel\u001b[0m\u001b[1;33m=\u001b[0m\u001b[1;34m'Constante del  rosamiento del aire'\u001b[0m\u001b[1;33m)\u001b[0m\u001b[1;33m\u001b[0m\u001b[0m\n\u001b[0m\u001b[0;32m     30\u001b[0m \u001b[0mplt\u001b[0m\u001b[1;33m.\u001b[0m\u001b[0mshow\u001b[0m\u001b[1;33m(\u001b[0m\u001b[1;33m)\u001b[0m\u001b[1;33m\u001b[0m\u001b[0m\n",
      "\u001b[1;32m/home/estudiante/anaconda/lib/python2.7/site-packages/matplotlib/pyplot.pyc\u001b[0m in \u001b[0;36mplot\u001b[1;34m(*args, **kwargs)\u001b[0m\n\u001b[0;32m   3097\u001b[0m         \u001b[0max\u001b[0m\u001b[1;33m.\u001b[0m\u001b[0mhold\u001b[0m\u001b[1;33m(\u001b[0m\u001b[0mhold\u001b[0m\u001b[1;33m)\u001b[0m\u001b[1;33m\u001b[0m\u001b[0m\n\u001b[0;32m   3098\u001b[0m     \u001b[1;32mtry\u001b[0m\u001b[1;33m:\u001b[0m\u001b[1;33m\u001b[0m\u001b[0m\n\u001b[1;32m-> 3099\u001b[1;33m         \u001b[0mret\u001b[0m \u001b[1;33m=\u001b[0m \u001b[0max\u001b[0m\u001b[1;33m.\u001b[0m\u001b[0mplot\u001b[0m\u001b[1;33m(\u001b[0m\u001b[1;33m*\u001b[0m\u001b[0margs\u001b[0m\u001b[1;33m,\u001b[0m \u001b[1;33m**\u001b[0m\u001b[0mkwargs\u001b[0m\u001b[1;33m)\u001b[0m\u001b[1;33m\u001b[0m\u001b[0m\n\u001b[0m\u001b[0;32m   3100\u001b[0m         \u001b[0mdraw_if_interactive\u001b[0m\u001b[1;33m(\u001b[0m\u001b[1;33m)\u001b[0m\u001b[1;33m\u001b[0m\u001b[0m\n\u001b[0;32m   3101\u001b[0m     \u001b[1;32mfinally\u001b[0m\u001b[1;33m:\u001b[0m\u001b[1;33m\u001b[0m\u001b[0m\n",
      "\u001b[1;32m/home/estudiante/anaconda/lib/python2.7/site-packages/matplotlib/axes/_axes.pyc\u001b[0m in \u001b[0;36mplot\u001b[1;34m(self, *args, **kwargs)\u001b[0m\n\u001b[0;32m   1371\u001b[0m         \u001b[0mlines\u001b[0m \u001b[1;33m=\u001b[0m \u001b[1;33m[\u001b[0m\u001b[1;33m]\u001b[0m\u001b[1;33m\u001b[0m\u001b[0m\n\u001b[0;32m   1372\u001b[0m \u001b[1;33m\u001b[0m\u001b[0m\n\u001b[1;32m-> 1373\u001b[1;33m         \u001b[1;32mfor\u001b[0m \u001b[0mline\u001b[0m \u001b[1;32min\u001b[0m \u001b[0mself\u001b[0m\u001b[1;33m.\u001b[0m\u001b[0m_get_lines\u001b[0m\u001b[1;33m(\u001b[0m\u001b[1;33m*\u001b[0m\u001b[0margs\u001b[0m\u001b[1;33m,\u001b[0m \u001b[1;33m**\u001b[0m\u001b[0mkwargs\u001b[0m\u001b[1;33m)\u001b[0m\u001b[1;33m:\u001b[0m\u001b[1;33m\u001b[0m\u001b[0m\n\u001b[0m\u001b[0;32m   1374\u001b[0m             \u001b[0mself\u001b[0m\u001b[1;33m.\u001b[0m\u001b[0madd_line\u001b[0m\u001b[1;33m(\u001b[0m\u001b[0mline\u001b[0m\u001b[1;33m)\u001b[0m\u001b[1;33m\u001b[0m\u001b[0m\n\u001b[0;32m   1375\u001b[0m             \u001b[0mlines\u001b[0m\u001b[1;33m.\u001b[0m\u001b[0mappend\u001b[0m\u001b[1;33m(\u001b[0m\u001b[0mline\u001b[0m\u001b[1;33m)\u001b[0m\u001b[1;33m\u001b[0m\u001b[0m\n",
      "\u001b[1;32m/home/estudiante/anaconda/lib/python2.7/site-packages/matplotlib/axes/_base.pyc\u001b[0m in \u001b[0;36m_grab_next_args\u001b[1;34m(self, *args, **kwargs)\u001b[0m\n\u001b[0;32m    302\u001b[0m                 \u001b[1;32mreturn\u001b[0m\u001b[1;33m\u001b[0m\u001b[0m\n\u001b[0;32m    303\u001b[0m             \u001b[1;32mif\u001b[0m \u001b[0mlen\u001b[0m\u001b[1;33m(\u001b[0m\u001b[0mremaining\u001b[0m\u001b[1;33m)\u001b[0m \u001b[1;33m<=\u001b[0m \u001b[1;36m3\u001b[0m\u001b[1;33m:\u001b[0m\u001b[1;33m\u001b[0m\u001b[0m\n\u001b[1;32m--> 304\u001b[1;33m                 \u001b[1;32mfor\u001b[0m \u001b[0mseg\u001b[0m \u001b[1;32min\u001b[0m \u001b[0mself\u001b[0m\u001b[1;33m.\u001b[0m\u001b[0m_plot_args\u001b[0m\u001b[1;33m(\u001b[0m\u001b[0mremaining\u001b[0m\u001b[1;33m,\u001b[0m \u001b[0mkwargs\u001b[0m\u001b[1;33m)\u001b[0m\u001b[1;33m:\u001b[0m\u001b[1;33m\u001b[0m\u001b[0m\n\u001b[0m\u001b[0;32m    305\u001b[0m                     \u001b[1;32myield\u001b[0m \u001b[0mseg\u001b[0m\u001b[1;33m\u001b[0m\u001b[0m\n\u001b[0;32m    306\u001b[0m                 \u001b[1;32mreturn\u001b[0m\u001b[1;33m\u001b[0m\u001b[0m\n",
      "\u001b[1;32m/home/estudiante/anaconda/lib/python2.7/site-packages/matplotlib/axes/_base.pyc\u001b[0m in \u001b[0;36m_plot_args\u001b[1;34m(self, tup, kwargs)\u001b[0m\n\u001b[0;32m    280\u001b[0m             \u001b[0mx\u001b[0m \u001b[1;33m=\u001b[0m \u001b[0mnp\u001b[0m\u001b[1;33m.\u001b[0m\u001b[0marange\u001b[0m\u001b[1;33m(\u001b[0m\u001b[0my\u001b[0m\u001b[1;33m.\u001b[0m\u001b[0mshape\u001b[0m\u001b[1;33m[\u001b[0m\u001b[1;36m0\u001b[0m\u001b[1;33m]\u001b[0m\u001b[1;33m,\u001b[0m \u001b[0mdtype\u001b[0m\u001b[1;33m=\u001b[0m\u001b[0mfloat\u001b[0m\u001b[1;33m)\u001b[0m\u001b[1;33m\u001b[0m\u001b[0m\n\u001b[0;32m    281\u001b[0m \u001b[1;33m\u001b[0m\u001b[0m\n\u001b[1;32m--> 282\u001b[1;33m         \u001b[0mx\u001b[0m\u001b[1;33m,\u001b[0m \u001b[0my\u001b[0m \u001b[1;33m=\u001b[0m \u001b[0mself\u001b[0m\u001b[1;33m.\u001b[0m\u001b[0m_xy_from_xy\u001b[0m\u001b[1;33m(\u001b[0m\u001b[0mx\u001b[0m\u001b[1;33m,\u001b[0m \u001b[0my\u001b[0m\u001b[1;33m)\u001b[0m\u001b[1;33m\u001b[0m\u001b[0m\n\u001b[0m\u001b[0;32m    283\u001b[0m \u001b[1;33m\u001b[0m\u001b[0m\n\u001b[0;32m    284\u001b[0m         \u001b[1;32mif\u001b[0m \u001b[0mself\u001b[0m\u001b[1;33m.\u001b[0m\u001b[0mcommand\u001b[0m \u001b[1;33m==\u001b[0m \u001b[1;34m'plot'\u001b[0m\u001b[1;33m:\u001b[0m\u001b[1;33m\u001b[0m\u001b[0m\n",
      "\u001b[1;32m/home/estudiante/anaconda/lib/python2.7/site-packages/matplotlib/axes/_base.pyc\u001b[0m in \u001b[0;36m_xy_from_xy\u001b[1;34m(self, x, y)\u001b[0m\n\u001b[0;32m    221\u001b[0m         \u001b[0my\u001b[0m \u001b[1;33m=\u001b[0m \u001b[0mnp\u001b[0m\u001b[1;33m.\u001b[0m\u001b[0matleast_1d\u001b[0m\u001b[1;33m(\u001b[0m\u001b[0my\u001b[0m\u001b[1;33m)\u001b[0m\u001b[1;33m\u001b[0m\u001b[0m\n\u001b[0;32m    222\u001b[0m         \u001b[1;32mif\u001b[0m \u001b[0mx\u001b[0m\u001b[1;33m.\u001b[0m\u001b[0mshape\u001b[0m\u001b[1;33m[\u001b[0m\u001b[1;36m0\u001b[0m\u001b[1;33m]\u001b[0m \u001b[1;33m!=\u001b[0m \u001b[0my\u001b[0m\u001b[1;33m.\u001b[0m\u001b[0mshape\u001b[0m\u001b[1;33m[\u001b[0m\u001b[1;36m0\u001b[0m\u001b[1;33m]\u001b[0m\u001b[1;33m:\u001b[0m\u001b[1;33m\u001b[0m\u001b[0m\n\u001b[1;32m--> 223\u001b[1;33m             \u001b[1;32mraise\u001b[0m \u001b[0mValueError\u001b[0m\u001b[1;33m(\u001b[0m\u001b[1;34m\"x and y must have same first dimension\"\u001b[0m\u001b[1;33m)\u001b[0m\u001b[1;33m\u001b[0m\u001b[0m\n\u001b[0m\u001b[0;32m    224\u001b[0m         \u001b[1;32mif\u001b[0m \u001b[0mx\u001b[0m\u001b[1;33m.\u001b[0m\u001b[0mndim\u001b[0m \u001b[1;33m>\u001b[0m \u001b[1;36m2\u001b[0m \u001b[1;32mor\u001b[0m \u001b[0my\u001b[0m\u001b[1;33m.\u001b[0m\u001b[0mndim\u001b[0m \u001b[1;33m>\u001b[0m \u001b[1;36m2\u001b[0m\u001b[1;33m:\u001b[0m\u001b[1;33m\u001b[0m\u001b[0m\n\u001b[0;32m    225\u001b[0m             \u001b[1;32mraise\u001b[0m \u001b[0mValueError\u001b[0m\u001b[1;33m(\u001b[0m\u001b[1;34m\"x and y can be no greater than 2-D\"\u001b[0m\u001b[1;33m)\u001b[0m\u001b[1;33m\u001b[0m\u001b[0m\n",
      "\u001b[1;31mValueError\u001b[0m: x and y must have same first dimension"
     ]
    }
   ],
   "source": [
    "import matplotlib.pyplot as plt\n",
    "\n",
    "def funcion(c) :\n",
    "    g, m, t, v, e  = 9.8, 68.1,  10.0, 40.0, 2.718\n",
    "    return (g*m/c*(1-e**-(c/m*t))-v)\n",
    "\n",
    "xl, xu, xr = 2.0, 20.0, 0.0\n",
    "rep = 0\n",
    "x, t = [xl, xu], [0,2,4,6,8,10,12,14,16,18,20,22]\n",
    "print (\"Itera.\\t|\\tXu\\t\\t|\\tXl\\t\\t|\\tXr\\t\\t|\\tF(c)\")\n",
    "print (\"----------------------------------------------------------\"\n",
    "      +\"------------------------------\")\n",
    "while True:\n",
    "    if (xr!=0):\n",
    "        print (\"%d\\t|\\t%f\\t|\\t%f\\t|\\t%f\\t|\\t%f\" %(rep, xu, xl, xr, funcion(xr)))\n",
    "    if (funcion(xl)*funcion(xu)<0):\n",
    "        xr = (xl+xu)/2\n",
    "        x.append(xr)\n",
    "        if (funcion(xl)*funcion(xr)<0) :\n",
    "            xu = xr\n",
    "        if (funcion(xl)*funcion(xr)>0):\n",
    "            xl = xr\n",
    "        if (funcion(xl)*funcion(xr)==0):\n",
    "            raiz =xr\n",
    "            break\n",
    "        rep += 1\n",
    "    else :\n",
    "        break\n",
    "plt.plot(t, x, 'bo', label='Constante del rosamiento del aire')\n",
    "plt.show()"
   ]
  },
  {
   "cell_type": "code",
   "execution_count": null,
   "metadata": {
    "collapsed": true
   },
   "outputs": [],
   "source": []
  },
  {
   "cell_type": "code",
   "execution_count": null,
   "metadata": {
    "collapsed": true
   },
   "outputs": [],
   "source": []
  }
 ],
 "metadata": {
  "kernelspec": {
   "display_name": "Python 2",
   "language": "python",
   "name": "python2"
  },
  "language_info": {
   "codemirror_mode": {
    "name": "ipython",
    "version": 2
   },
   "file_extension": ".py",
   "mimetype": "text/x-python",
   "name": "python",
   "nbconvert_exporter": "python",
   "pygments_lexer": "ipython2",
   "version": "2.7.10"
  }
 },
 "nbformat": 4,
 "nbformat_minor": 0
}
