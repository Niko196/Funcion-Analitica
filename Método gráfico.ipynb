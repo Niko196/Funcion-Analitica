{
 "cells": [
  {
   "cell_type": "code",
   "execution_count": 20,
   "metadata": {
    "collapsed": false
   },
   "outputs": [
    {
     "name": "stdout",
     "output_type": "stream",
     "text": [
      "La solución para x2 es : 3.0\n",
      "La solución de x1 es : 4.0\n"
     ]
    }
   ],
   "source": [
    "def funcion1(x) :\n",
    "    return -1.5*x+9\n",
    "\n",
    "def funcion2(x):\n",
    "    return 0.5*x+1\n",
    "\n",
    "def funx1(x):\n",
    "    return 2*x-2\n",
    "\n",
    "import matplotlib.pyplot as plt\n",
    "\n",
    "x,fx1,fx2=[],[],[]\n",
    "i=0;\n",
    "while (i<=6):\n",
    "    x1=funcion1(i)\n",
    "    x2=funcion2(i)\n",
    "    x.append(i)\n",
    "    fx1.append(x1)\n",
    "    fx2.append(x2)\n",
    "    if (x1==x2):\n",
    "        aux=x1\n",
    "    i+=1\n",
    "    \n",
    "print (\"La solución para x2 es : %1.1f\" %(aux))\n",
    "print (\"La solución de x1 es : %1.1f\" %(funx1(aux)))\n",
    "       \n",
    "plt.plot(x, fx1, label='f(x)=3x1+2x2=18')\n",
    "plt.plot(x, fx2, label='f(x)=-x1+2x2=2')\n",
    "plt.legend()\n",
    "plt.grid(True)\n",
    "plt.show()"
   ]
  },
  {
   "cell_type": "code",
   "execution_count": null,
   "metadata": {
    "collapsed": true
   },
   "outputs": [],
   "source": []
  }
 ],
 "metadata": {
  "kernelspec": {
   "display_name": "Python 3",
   "language": "python",
   "name": "python3"
  },
  "language_info": {
   "codemirror_mode": {
    "name": "ipython",
    "version": 3
   },
   "file_extension": ".py",
   "mimetype": "text/x-python",
   "name": "python",
   "nbconvert_exporter": "python",
   "pygments_lexer": "ipython3",
   "version": "3.5.1"
  }
 },
 "nbformat": 4,
 "nbformat_minor": 0
}
