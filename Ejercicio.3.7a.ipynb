{
 "cells": [
  {
   "cell_type": "markdown",
   "metadata": {},
   "source": [
    "# Evaluar el polinomio Y(x)"
   ]
  },
  {
   "cell_type": "code",
   "execution_count": 9,
   "metadata": {
    "collapsed": false
   },
   "outputs": [
    {
     "name": "stdout",
     "output_type": "stream",
     "text": [
      "Y\t\t|\tY aprox.\t|\tEt\t\t|\tE% aprox.\t|\tEs\n",
      "-------------------------------------------------------------------------------------------------------------\n",
      "0.743053\t|\t0.750000\t|\t0.006947\t|\t0.926267\t|\t0.050000\n"
     ]
    }
   ],
   "source": [
    "def cifras(x):\n",
    "    x *= 100\n",
    "    x = int(x)\n",
    "    x /= 100\n",
    "    return x\n",
    "\n",
    "x = 1.37\n",
    "y = x**3-7*x**2+8*x+0.35\n",
    "yapr = cifras(x**3)-cifras(7*x**2)+cifras(8*x)+0.35\n",
    "et = (y-yapr)*(-1)\n",
    "er = et/yapr*100\n",
    "es = (0.5*10**(2-3))\n",
    "print (\"Y\\t\\t|\\tY aprox.\\t|\\tEt\\t\\t|\\tE% aprox.\\t|\\tEs\")\n",
    "print (\"-------------------------------------------------------------\"\n",
    "      +\"------------------------------------------------\")\n",
    "print (\"%f\\t|\\t%f\\t|\\t%f\\t|\\t%f\\t|\\t%f\" %(y, yapr, et, er, es))\n"
   ]
  },
  {
   "cell_type": "code",
   "execution_count": null,
   "metadata": {
    "collapsed": true
   },
   "outputs": [],
   "source": []
  }
 ],
 "metadata": {
  "kernelspec": {
   "display_name": "Python 3",
   "language": "python",
   "name": "python3"
  },
  "language_info": {
   "codemirror_mode": {
    "name": "ipython",
    "version": 3
   },
   "file_extension": ".py",
   "mimetype": "text/x-python",
   "name": "python",
   "nbconvert_exporter": "python",
   "pygments_lexer": "ipython3",
   "version": "3.5.1"
  }
 },
 "nbformat": 4,
 "nbformat_minor": 0
}
