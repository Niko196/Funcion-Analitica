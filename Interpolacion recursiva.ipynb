{
 "cells": [
  {
   "cell_type": "code",
   "execution_count": 4,
   "metadata": {
    "collapsed": false
   },
   "outputs": [
    {
     "ename": "SyntaxError",
     "evalue": "invalid syntax (<ipython-input-4-bbe265dd832c>, line 63)",
     "output_type": "error",
     "traceback": [
      "\u001b[1;36m  File \u001b[1;32m\"<ipython-input-4-bbe265dd832c>\"\u001b[1;36m, line \u001b[1;32m63\u001b[0m\n\u001b[1;33m    =0\u001b[0m\n\u001b[1;37m    ^\u001b[0m\n\u001b[1;31mSyntaxError\u001b[0m\u001b[1;31m:\u001b[0m invalid syntax\n"
     ]
    }
   ],
   "source": [
    "import math\n",
    "\n",
    "def f(x):\n",
    "    return math.log(x, math.e)\n",
    "\n",
    "x = []\n",
    "n = int(input(\"Ingrese el grado de la ecucion: \"))+1\n",
    "for i in range(n):\n",
    "    x.append(int(input(\"X\"+str(i)+\": \")))\n",
    "\n",
    "def subx(sep, x2):\n",
    "    subx = []\n",
    "    if (sep == 1):\n",
    "        for i in range(1,len(x2)):\n",
    "            subx.append(x2[i])\n",
    "    else :\n",
    "        for i in range(len(x2)-1):\n",
    "            subx.append(x2[i])\n",
    "    return subx\n",
    "\n",
    "def subx3(n):\n",
    "    x4 = []\n",
    "    for i in range(n+1):\n",
    "        x4.append(x[i])\n",
    "    return x4\n",
    "\n",
    "fx = []\n",
    "\n",
    "def fx(x3):\n",
    "    if (len(x3)>2):\n",
    "        subx1 = subx(1, x3)\n",
    "        subx2 = subx(0, x3)\n",
    "        return (fx(subx1)-fx(subx2))/(x3[len(x3)-1]-x3[0])\n",
    "    else :\n",
    "        if (len(x3)==2) :\n",
    "            return (f(x3[1])-f(x3[0]))/(x3[1]-x3[0])\n",
    "        else :\n",
    "            return f(x3[0])\n",
    "    \n",
    "b = []\n",
    "xa = int(input(\"Ingrese el valor de X para f(x): \"))\n",
    "for i in range(len(x)):\n",
    "    b.append(fx(subx3(i)))\n",
    "resp = 0\n",
    "for i in range(len(x)):\n",
    "    mult = 1\n",
    "    if (i!=0):\n",
    "        for j in range(i):\n",
    "            mult *= (xa-x[j])\n",
    "    resp += b[i]*mult\n",
    "\n",
    "print()\n",
    "print (\"ite\\t|\\tX\\t|\\tf(x)\")\n",
    "print (\"------------------------------------------\")\n",
    "for i in range(n):\n",
    "    print (\"%d\\t|\\t%d\\t|\\t%1.4f\" %(i, x[i], f(x[i])))\n",
    "print()\n",
    "for i in range(n):\n",
    "    print (\"B\"+str(i)+\": %1.4f\" %(b[i]))\n",
    "print()\n",
    "print (\"Respuesta aproximada: %1.4f\" %(resp))\n",
    "print (\"Respuesta real: %1.4f\" %(f(xa)))"
   ]
  },
  {
   "cell_type": "code",
   "execution_count": null,
   "metadata": {
    "collapsed": true
   },
   "outputs": [],
   "source": []
  }
 ],
 "metadata": {
  "kernelspec": {
   "display_name": "Python 3",
   "language": "python",
   "name": "python3"
  },
  "language_info": {
   "codemirror_mode": {
    "name": "ipython",
    "version": 3
   },
   "file_extension": ".py",
   "mimetype": "text/x-python",
   "name": "python",
   "nbconvert_exporter": "python",
   "pygments_lexer": "ipython3",
   "version": "3.5.1"
  }
 },
 "nbformat": 4,
 "nbformat_minor": 0
}
