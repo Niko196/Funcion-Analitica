{
 "cells": [
  {
   "cell_type": "markdown",
   "metadata": {},
   "source": [
    "# Evaluar e^-5\n",
    "## por medio de dos metodos"
   ]
  },
  {
   "cell_type": "code",
   "execution_count": 26,
   "metadata": {
    "collapsed": false
   },
   "outputs": [
    {
     "name": "stdout",
     "output_type": "stream",
     "text": [
      "Terminos|\te^-x\t\t|\te^x\n",
      "-----------------------------------------------------\n",
      "1\t|\t1.000000\t|\t1.000000\n",
      "2\t|\t-4.000000\t|\t6.000000\n",
      "3\t|\t8.500000\t|\t18.500000\n",
      "4\t|\t-12.333333\t|\t39.333333\n",
      "5\t|\t13.708333\t|\t65.375000\n",
      "6\t|\t-12.333333\t|\t91.416667\n",
      "7\t|\t9.368056\t|\t113.118056\n",
      "8\t|\t-6.132937\t|\t128.619048\n",
      "9\t|\t3.555184\t|\t138.307168\n",
      "10\t|\t-1.827105\t|\t143.689457\n",
      "11\t|\t0.864039\t|\t146.380601\n",
      "12\t|\t-0.359208\t|\t147.603849\n",
      "13\t|\t0.150478\t|\t148.113535\n",
      "14\t|\t-0.045555\t|\t148.309568\n",
      "15\t|\t0.024457\t|\t148.379580\n",
      "16\t|\t0.001119\t|\t148.402917\n",
      "17\t|\t0.008412\t|\t148.410210\n",
      "18\t|\t0.006267\t|\t148.412355\n",
      "19\t|\t0.006863\t|\t148.412951\n",
      "20\t|\t0.006706\t|\t148.413108\n",
      "21\t|\t0.006746\t|\t148.413147\n",
      "22\t|\t0.006736\t|\t148.413156\n",
      "23\t|\t0.006738\t|\t148.413159\n",
      "-----------------------------------------------------\n",
      "\n",
      "Terminos|\te^-5\t\t|\te^-5 aprox.\t|\t1/e^x\t\t|\t1/e^x aprox.\n",
      "-------------------------------------------------------------------------------------------------------\n",
      "23\t|\t0.006741\t|\t0.006738\t|\t0.006741\t|\t0.006738\n"
     ]
    }
   ],
   "source": [
    "def factorial(x):\n",
    "    cont, res = 1 , 1\n",
    "    while cont<=x:\n",
    "        res*=cont\n",
    "        cont+=1\n",
    "    return res\n",
    "\n",
    "e = 2.718\n",
    "x = 5\n",
    "term, ex1, ex2 = 0, 0, 0\n",
    "exn = e**(-x)\n",
    "exp = e**x\n",
    "print (\"Terminos|\\te^-x\\t\\t|\\te^x\")\n",
    "print (\"-----------------------------------------------------\")\n",
    "while (term<23):\n",
    "    term+=1\n",
    "    ex1 += ((-1)**(term+1))*(x**(term-1)) / factorial(term-1)  \n",
    "    ex2 += (x**(term-1)) / factorial(term-1)\n",
    "    print (\"%d\\t|\\t%f\\t|\\t%f\" %(term, ex1, ex2))\n",
    "print (\"-----------------------------------------------------\")\n",
    "print ()\n",
    "print (\"Terminos|\\te^-5\\t\\t|\\te^-5 aprox.\\t|\\t1/e^x\\t\\t|\\t1/e^x aprox.\")\n",
    "print (\"------------------------------------------------------------------------\"\n",
    "      +\"-------------------------------\")\n",
    "ex2 = 1/ex2\n",
    "print (\"%d\\t|\\t%f\\t|\\t%f\\t|\\t%f\\t|\\t%f\" %(term, exn, ex1, exn, ex2))"
   ]
  },
  {
   "cell_type": "code",
   "execution_count": null,
   "metadata": {
    "collapsed": true
   },
   "outputs": [],
   "source": []
  }
 ],
 "metadata": {
  "kernelspec": {
   "display_name": "Python 3",
   "language": "python",
   "name": "python3"
  },
  "language_info": {
   "codemirror_mode": {
    "name": "ipython",
    "version": 3
   },
   "file_extension": ".py",
   "mimetype": "text/x-python",
   "name": "python",
   "nbconvert_exporter": "python",
   "pygments_lexer": "ipython3",
   "version": "3.5.1"
  }
 },
 "nbformat": 4,
 "nbformat_minor": 0
}
