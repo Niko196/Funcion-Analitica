{
 "cells": [
  {
   "cell_type": "markdown",
   "metadata": {},
   "source": [
    "#   Método de la secante modiﬁcado\n"
   ]
  },
  {
   "cell_type": "code",
   "execution_count": 1,
   "metadata": {
    "collapsed": false
   },
   "outputs": [
    {
     "name": "stdout",
     "output_type": "stream",
     "text": [
      "i\t|\tXi\t\t|\tEa\n",
      "----------------------------------------------\n",
      "0\t|\t0.000000\t|\t0.000000\n",
      "1\t|\t0.537291\t|\t86.119002\n",
      "2\t|\t0.567056\t|\t5.249160\n",
      "3\t|\t0.567165\t|\t0.019116\n",
      "4\t|\t0.567165\t|\t0.000034\n"
     ]
    }
   ],
   "source": [
    "import math\n",
    "\n",
    "def funcion (x):\n",
    "    return (e**(-x)-x)\n",
    "\n",
    "def error(x1, xi):\n",
    "    return (math.fabs((x1-xi)/x1)*100)\n",
    "\n",
    "e, ea, dx, xi, x1, rep = 2.718, 0, 0.01, 1, 0, 0\n",
    "print(\"i\\t|\\tXi\\t\\t|\\tEa\")\n",
    "print (\"----------------------------------------------\")\n",
    "while rep<=4:\n",
    "    print(\"%d\\t|\\t%f\\t|\\t%f\" %(rep, x1, ea))\n",
    "    x1 = xi-(funcion(xi)*(dx)/(funcion(xi+dx)-funcion(xi)))\n",
    "    ea = error(x1, xi)\n",
    "    xi = x1\n",
    "    rep +=1"
   ]
  },
  {
   "cell_type": "code",
   "execution_count": null,
   "metadata": {
    "collapsed": true
   },
   "outputs": [],
   "source": []
  }
 ],
 "metadata": {
  "kernelspec": {
   "display_name": "Python 3",
   "language": "python",
   "name": "python3"
  },
  "language_info": {
   "codemirror_mode": {
    "name": "ipython",
    "version": 3
   },
   "file_extension": ".py",
   "mimetype": "text/x-python",
   "name": "python",
   "nbconvert_exporter": "python",
   "pygments_lexer": "ipython3",
   "version": "3.5.1"
  }
 },
 "nbformat": 4,
 "nbformat_minor": 0
}
