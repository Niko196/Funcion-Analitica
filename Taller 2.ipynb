{
 "cells": [
  {
   "cell_type": "markdown",
   "metadata": {},
   "source": [
    "9.1)\n",
    "a). Escriba en forma matricial el conjunto siguiente de ecuaciones:\n",
    "\n",
    "50 = 5x3 + 2x2 \n",
    "\n",
    "10 – x1 = x3\n",
    "\n",
    "3x2 + 8x1 = 20\n",
    "\n",
    "Respuesta a:\n",
    " \n",
    "[A]=[[0,2,5],[1,0,1],[8,3,0]]\n",
    "\n",
    "b). Escriba la transpuesta de la matriz de coeficientes.\n",
    "\n",
    "Respuesta b:\n",
    "\n",
    "[A]^T=[[0,1,8],[2,0,3],[5,1,0]]\n",
    "\n",
    "9.2) Ciertas matrice están definidas como sigue\n",
    "\n",
    "[A]=[[4,7],[1,2],[5,6]]\n",
    "\n",
    "[B]=[[4,3,7],[1,2,7],[1,0,4]]\n",
    "\n",
    "[C]=[[3],[6],[1]]\n",
    "\n",
    "[D]=[[9,4,3,-6],[2,-1,7,5]]\n",
    "\n",
    "[E]=[[1,5,8],[7,2,3],[4,0,6]]\n",
    "\n",
    "[F]=[[3,0,1],[1,7,3]]\n",
    "\n",
    "[G]=[[7,6,4]]\n",
    "\n",
    "a). ¿Cuáles son las dimensiones de las matrices?\n",
    "\n",
    "[A] es una matriz 3x2\n",
    "\n",
    "[B] es una matriz 3x3\n",
    "\n",
    "[C] es una matriz 3x1\n",
    "\n",
    "[D] es una matriz 2x4\n",
    "\n",
    "[E] es una matriz 3x3\n",
    "\n",
    "[F] es una matriz 2x3\n",
    "\n",
    "[G] es una matriz 1x3\n",
    "\n",
    "b). Identifique las matrices cuadrada, columna y renglón.\n",
    "\n",
    "Matrices cuadradas: [B],[E]\n",
    "\n",
    "Matriz columna: [C]\n",
    "\n",
    "Matriz renglón: [G]\n",
    "\n",
    "c). Elemento A12=7\n",
    "\n",
    "Elemento B23=7\n",
    "\n",
    "Elemento D32=La posicion esta fuera de la matriz\n",
    "\n",
    "Elemento E22=2\n",
    "\n",
    "Elemento F12=0\n",
    "\n",
    "Elemento G12=6"
   ]
  },
  {
   "cell_type": "code",
   "execution_count": 9,
   "metadata": {
    "collapsed": false,
    "scrolled": true
   },
   "outputs": [
    {
     "name": "stdout",
     "output_type": "stream",
     "text": [
      " 1) .La suma de matrices es: [[5, 8, 15], [8, 4, 10], [5, 0, 10]]\n",
      " 2). No se puede sumar, las matrices no tienen las misma dimensiones.\n",
      " 3). La resta de matrices es: [[3, -2, -1], [-6, 0, 4], [-3, 0, -2]]\n",
      " 4). Siete por [B] igual a [[28, 21, 49], [7, 14, 49], [7, 0, 28]]\n",
      " 8). Transpuesta de D : [[9, 2], [4, -1], [3, 7], [-6, 5]]\n",
      " 5). Resultado ExB: [[17, 13, 74], [33, 25, 75], [22, 12, 52]]\n",
      " 6). Transpuesta de C: [[3, 6, 1]]\n",
      " 7). Resultado BxA: [[54, 76], [41, 53], [24, 31]]\n",
      " 9). Resultado AxC: no se puede operar\n",
      "10). Resultado IxB: [[4, 3, 7], [1, 2, 7], [1, 0, 4]]\n",
      "11). Resultado E^TxE: [[66, 19, 53], [19, 29, 46], [53, 46, 109]]\n",
      "12). Rsultado C^TxC: [[46], [46]]\n"
     ]
    }
   ],
   "source": [
    "#d)\n",
    "#1)\n",
    "A=[[4,7],[1,2],[5,6]]\n",
    "B=[[4,3,7],[1,2,7],[1,0,4]]\n",
    "C=[[3],[6],[1]]\n",
    "D=[[9,4,3,-6],[2,-1,7,5]]\n",
    "E=[[1,5,8],[7,2,3],[4,0,6]]\n",
    "I=[[1,0,0],[0,1,0],[0,0,1]]\n",
    "R=[[0,0,0],[0,0,0],[0,0,0]]\n",
    "matrizT,matrizT1,matrizT2=[],[],[]\n",
    "def sumaEB ():\n",
    "    for i in range (3):\n",
    "        for j in range (3):\n",
    "            R[i][j]=(B[i][j]+E[i][j])\n",
    "    print (\" 1) .La suma de matrices es: \"+str(R))\n",
    "sumaEB()\n",
    "#2)\n",
    "print (\" 2). No se puede sumar, las matrices no tienen las misma dimensiones.\")\n",
    "\n",
    "#3)\n",
    "def restaEB ():\n",
    "    for i in range (3):\n",
    "        for j in range (3):\n",
    "            R[i][j]=(B[i][j]-E[i][j])\n",
    "    print (\" 3). La resta de matrices es: \"+str(R))\n",
    "restaEB()\n",
    "\n",
    "#4)\n",
    "def sietePorB():\n",
    "    for i in range (3):\n",
    "        for j in range (3):\n",
    "            R[i][j]=7*B[i][j]\n",
    "    print (\" 4). Siete por [B] igual a \"+str(R))\n",
    "sietePorB()\n",
    "\n",
    "def mult(X,Y):\n",
    "    C=[]\n",
    "    for i in range(len(X)):\n",
    "        C.append([0]*len(Y[0]))\n",
    "        for j in range(len(Y[0])):\n",
    "            for k in range(len(Y)):\n",
    "                C[i][j]+= X[i][k]*Y[k][j]           \n",
    "    return C\n",
    "\n",
    "def transpuestaE(E):\n",
    "    for i in range (len(E[0])):\n",
    "        ar2=[]\n",
    "        for j in range (len(E)):\n",
    "            ar2.append(E[j][i])\n",
    "        matrizT2.append(ar2)\n",
    "    return matrizT2\n",
    "\n",
    "#6)\n",
    "def transpuestaC(C):\n",
    "    for i in range (len(C[0])):\n",
    "        ar=[]\n",
    "        for j in range (len(C)):\n",
    "            ar.append(C[j][i])\n",
    "        matrizT.append(ar)\n",
    "    return matrizT\n",
    "\n",
    "#8\n",
    "def transpuestaD():\n",
    "    for i in range (len(D[0])):\n",
    "        ar1=[]\n",
    "        for j in range (len(D)):\n",
    "            ar1.append(0)\n",
    "        matrizT1.append(ar1)\n",
    "        for j in range(len(D)):\n",
    "            matrizT1[i][j]=D[j][i]\n",
    "    print (\" 8). Transpuesta de D : \"+str(matrizT1))\n",
    "transpuestaD()\n",
    "\n",
    "print (\" 5). Resultado ExB: \"+str(mult(E,B)))\n",
    "print (\" 6). Transpuesta de C: \"+str(transpuestaC(C)))\n",
    "print (\" 7). Resultado BxA: \"+str(mult(B,A)))\n",
    "print (\" 9). Resultado AxC: no se puede operar\")\n",
    "print (\"10). Resultado IxB: \"+str(mult(I,B)))\n",
    "print (\"11). Resultado E^TxE: \"+str(mult(transpuestaE(E),E)))\n",
    "print (\"12). Rsultado C^TxC: \"+str(mult(transpuestaC(C),C)))\n",
    "\n",
    "\n"
   ]
  },
  {
   "cell_type": "code",
   "execution_count": 11,
   "metadata": {
    "collapsed": false
   },
   "outputs": [
    {
     "name": "stdout",
     "output_type": "stream",
     "text": [
      " a). Resultado AxB igual a: [[4.0, 15], [8.0, 29], [9.0, 29]]\n",
      "Resultado BxA igual a: No se puede multiplicar porque el número de columnas de X es diferente a número de filas de Y\n",
      "Resultado AxC igual a: [[-16, 4], [-24, 4], [2, -10]]\n",
      "Resultado CxA igual a: No se puede multiplicar porque el número de columnas de X es diferente a número de filas de Y\n",
      "Resultado BxC igual a: [[-7, 1], [-5.0, 1.0]]\n",
      "Resultado CxB igual a: [[1.0, 2], [-2.5, -7]]\n",
      " b). Este método simple explica el porqué es imposible multiplicar dos matrices si el número de columnas de la primera matriz no es igual al número de renglones en la segunda matriz. Note también la importancia del orden en la multiplicación (es decir, la multiplicación de matrices no es conmutativa).\n",
      " c). Se debe tener claro el orden en que se quieren multiplicar matrices, ya que como vimos en el recuadro PT3.2 la multiplicación entre matrices no es conmutativa, esto es: AxB!=BxA\n"
     ]
    }
   ],
   "source": [
    "#9.3)\n",
    "A=[[1,6],[3,10],[7,4]]\n",
    "B=[[1,3],[0.5,2]]\n",
    "C=[[2,-2],[-3,1]]\n",
    "resultado=[],[]\n",
    "\n",
    "def multi(X,Y):\n",
    "    c=[]\n",
    "    if(len(X[0])!=len(Y)):\n",
    "        c = (\"No se puede multiplicar porque el número de columnas de X es diferente a número de filas de Y\")\n",
    "    if(len(X[0])==len(Y)):\n",
    "        for i in range(len(X)):\n",
    "            c.append([0]*len(Y[0]))               \n",
    "            for j in range(len(Y[0])):\n",
    "                for k in range(len(Y)):\n",
    "                    c[i][j]+= X[i][k]*Y[k][j]           \n",
    "    return c\n",
    "\n",
    "print (\" a). Resultado AxB igual a: \"+str(multi(A,B)))\n",
    "print (\"Resultado BxA igual a: \"+str(multi(B,A)))\n",
    "print (\"Resultado AxC igual a: \"+str(multi(A,C)))\n",
    "print (\"Resultado CxA igual a: \"+str(multi(C,A)))\n",
    "print (\"Resultado BxC igual a: \"+str(multi(B,C)))\n",
    "print (\"Resultado CxB igual a: \"+str(multi(C,B)))\n",
    "\n",
    "print (\" b). Este método simple explica el porqué es imposible \\\n",
    "multiplicar dos matrices si el número de columnas de la primera \\\n",
    "matriz no es igual al número de renglones en la segunda matriz. \\\n",
    "Note también la importancia del orden en la multiplicación (es \\\n",
    "decir, la multiplicación de matrices no es conmutativa).\")\n",
    "\n",
    "print (\" c). Se debe tener claro el orden en que se quieren multiplicar matrices, ya que como vimos en \\\n",
    "el recuadro PT3.2 la multiplicación entre matrices no es conmutativa, esto es: AxB!=BxA\")"
   ]
  },
  {
   "cell_type": "code",
   "execution_count": 2,
   "metadata": {
    "collapsed": false
   },
   "outputs": [
    {
     "name": "stdout",
     "output_type": "stream",
     "text": [
      "La solución de x2 es : 5.0\n",
      "La solución para x1 es : 4.0\n",
      "Reemplazando en la primera ecuación 4*x1-8*x2=-24, es igual a: -24.0=-24\n",
      "Reemplazando en la segunda ecuación x1+6*x2=34, es igual a: 34.0=34\n"
     ]
    },
    {
     "data": {
      "image/png": "[encoded data removed]",
      "text/plain": [
       "<matplotlib.figure.Figure at 0x211ccc2cd68>"
      ]
     },
     "metadata": {},
     "output_type": "display_data"
    }
   ],
   "source": [
    "#9.4)\n",
    "import math\n",
    "import matplotlib.pyplot as plt\n",
    "%matplotlib inline\n",
    "x,fx1,fx2=[],[],[]\n",
    "r=0\n",
    "while (r<8):\n",
    "    x1=(0.5)*r +3\n",
    "    x2=((34-r)/6.0)\n",
    "    x.append(r)\n",
    "    fx1.append(x1)\n",
    "    fx2.append(x2)\n",
    "    if(x1==x2):\n",
    "        resp2=x1\n",
    "        resp1=((2*resp2)-6)\n",
    "    r+=1\n",
    "x1, x2 = resp1, resp2\n",
    "print (\"La solución de x2 es : \"+str(resp2))\n",
    "print (\"La solución para x1 es : \"+str(resp1))\n",
    "print (\"Reemplazando en la primera ecuación 4*x1-8*x2=-24, es igual a: \"+str(4*x1-8*x2)+\"=-24\")\n",
    "print (\"Reemplazando en la segunda ecuación x1+6*x2=34, es igual a: \"+str(x1+6*x2)+\"=34\")\n",
    "plt.plot(x,fx1, linewidth='2.0', label='4x1-8x2=-24')\n",
    "plt.plot(x,fx2, linewidth='2.0',label='x1+6x2=34')\n",
    "plt.legend()\n",
    "plt.xlabel('x1')\n",
    "plt.ylabel('x2')\n",
    "plt.grid(True)\n",
    "plt.show()"
   ]
  },
  {
   "cell_type": "code",
   "execution_count": 3,
   "metadata": {
    "collapsed": false
   },
   "outputs": [
    {
     "name": "stdout",
     "output_type": "stream",
     "text": [
      "La solución aproximada de x2 es: 56.52800000000259\n",
      "La solución aproximada para x1 es: 404.8000000000235\n",
      "a).Reemplazando en la primera ecuación -1.1*x1+10*x2=120 es igual a: 120.0=120\n",
      "Reemplazando en la segunda ecuación -2*x1+17.4*x2=174 es igual a: 173.9871999999981=174\n",
      "b).Las dos rectas se intersectan, esto quiere decir que existe una única solución para este sistema\n",
      "c). Determinante igual a: 0.8599999999999994\n",
      "d). x1 por eliminación de incógnitas: 404.6511627906979\n",
      "x2 por eliminación de incógnitas: 56.51162790697678\n"
     ]
    },
    {
     "data": {
      "image/png": "[encoded data removed]",
      "text/plain": [
       "<matplotlib.figure.Figure at 0x211cb427588>"
      ]
     },
     "metadata": {},
     "output_type": "display_data"
    }
   ],
   "source": [
    "#9.5)\n",
    "import math\n",
    "import matplotlib.pyplot as plt\n",
    "%matplotlib inline\n",
    "x,fx1,fx2=[],[],[]\n",
    "matriz,b=[[-1.1,10],[-2,17.4]],[120,174]\n",
    "r=0\n",
    "while (r<=600):\n",
    "    x1=12.0 + 0.11*r\n",
    "    x2=10.0 + (2*r)/17.4\n",
    "    x.append(r)\n",
    "    fx1.append(x1)\n",
    "    fx2.append(x2)\n",
    "    if((int)(x1*10**3)/10**3==(int)(x2*10**3)/10**3):\n",
    "        resp2=x1\n",
    "        resp1=((10.0*resp2)-120)/1.1\n",
    "    r+=0.1\n",
    "\n",
    "x1, x2 = resp1, resp2\n",
    "print (\"La solución aproximada de x2 es: \"+str(resp2))\n",
    "print (\"La solución aproximada para x1 es: \"+str(resp1))\n",
    "print (\"a).Reemplazando en la primera ecuación -1.1*x1+10*x2=120 es igual a: \"+str(-1.1*x1+10*x2)+\"=120\")\n",
    "print (\"Reemplazando en la segunda ecuación -2*x1+17.4*x2=174 es igual a: \"+str(-2*x1+17.4*x2)+\"=174\")\n",
    "print (\"b).Las dos rectas se intersectan, esto quiere decir que existe una única solución para este sistema\")\n",
    "\n",
    "deter=(matriz[0][0]*matriz[1][1]-matriz[0][1]*matriz[1][0])\n",
    "print (\"c). Determinante igual a: \"+str(deter))\n",
    "\n",
    "#Eliminación de incógnitas\n",
    "\n",
    "x11=((matriz[1][1]*b[0]-matriz[0][1]*b[1])/deter)\n",
    "print (\"d). x1 por eliminación de incógnitas: \"+str(x11))\n",
    "x22=((matriz[0][0]*b[1]-matriz[1][0]*b[0])/deter)\n",
    "print (\"x2 por eliminación de incógnitas: \"+str(x22))\n",
    "\n",
    "plt.plot(x,fx1, label='-1.1x1+10x2=120')\n",
    "plt.plot(x,fx2, label='-2x1+17.4x2=174')\n",
    "plt.plot(x11,x22, 'cs', label='Solucion')\n",
    "plt.legend()\n",
    "plt.grid(True)\n",
    "plt.show()"
   ]
  },
  {
   "cell_type": "code",
   "execution_count": 4,
   "metadata": {
    "collapsed": false
   },
   "outputs": [
    {
     "name": "stdout",
     "output_type": "stream",
     "text": [
      "a). Determinante: 1\n",
      "b). x1 igual a: 6.0\n",
      "x2 igual a: -8.0\n",
      "x3 igual a: 5.0\n",
      "c). Reemplazando en la primera ecuación 2x2+5x3=9 es igual a: 9.0=9\n",
      "Reemplazando en la primera ecuación 2x1+x2+x3=9 es igual a: 9.0=9\n",
      "Reemplazando en la primera ecuación 3x1+x2=10 es igual a: 10.0=10\n"
     ]
    }
   ],
   "source": [
    "#9.6)\n",
    "m,m0,m1,m2,b=[[0,2,5],[2,1,1,],[3,1,0]],[[0,2,5],[2,1,1,],[3,1,0]],[[0,2,5],[2,1,1,],[3,1,0]],[[0,2,5],[2,1,1,],[3,1,0]],[9,9,10]\n",
    "deter,deter1,deter2,deter3=0,0,0,0\n",
    "\n",
    "for l in range(3):\n",
    "    m0[l][0]=b[l]\n",
    "    m1[l][1]=b[l]\n",
    "    m2[l][2]=b[l]\n",
    "\n",
    "def solucion(z,k):\n",
    "    res=0\n",
    "    if k==0:\n",
    "        res=(z[1][1]*z[2][2]-z[1][2]*z[2][1])\n",
    "    else:\n",
    "        if k==1:\n",
    "            res=(-1)*(z[1][0]*z[2][2]-z[1][2]*z[2][0])\n",
    "        else:\n",
    "            if k==2:\n",
    "                res=(z[1][0]*z[2][1]-z[1][1]*z[2][0])    \n",
    "    return (res)\n",
    "\n",
    "for i in range (3):    \n",
    "    deter += (m[0][i]*solucion(m,i))\n",
    "    deter1 += (m0[0][i]*solucion(m0,i))\n",
    "    deter2 += (m1[0][i]*solucion(m1,i))\n",
    "    deter3 += (m2[0][i]*solucion(m2,i))\n",
    "    \n",
    "print (\"a). Determinante: \"+str(deter))\n",
    "print (\"b). x1 igual a: \"+str(deter1/deter))\n",
    "print (\"x2 igual a: \"+str(deter2/deter))\n",
    "print (\"x3 igual a: \"+str(deter3/deter))\n",
    "print (\"c). Reemplazando en la primera ecuación 2x2+5x3=9 es igual a: \"+str(2*(deter2/deter)+5*(deter3/deter))+\"=\"+str(b[0]))\n",
    "print (\"Reemplazando en la primera ecuación 2x1+x2+x3=9 es igual a: \"+str(2*(deter1/deter)+1*(deter2/deter)+1*(deter3/deter))+\"=\"+str(b[1]))\n",
    "print (\"Reemplazando en la primera ecuación 3x1+x2=10 es igual a: \"+str(3*(deter1/deter)+1*(deter2/deter))+\"=\"+str(b[2]))"
   ]
  },
  {
   "cell_type": "code",
   "execution_count": 6,
   "metadata": {
    "collapsed": false
   },
   "outputs": [
    {
     "name": "stdout",
     "output_type": "stream",
     "text": [
      "a). La solución para x2 es: 10.0\n",
      "La solución para x1 es: 14.5\n",
      "b). El determinante es: 0.020000000000000018\n",
      "c). Debido a que el determinante tiende a cero las gráficas parecen que remontara una sobre la otra, esto ocurre cuando el sistema puede tener muchas soluciones; sin embargo hay una intersección por lo tanto el sistema tiene única solución\n",
      "x1 por eliminación de incógnitas: 9.999999999999956\n",
      "x2 por eliminación de incógnitas: 14.499999999999945\n"
     ]
    },
    {
     "data": {
      "image/png": "[encoded data removed]",
      "text/plain": [
       "<matplotlib.figure.Figure at 0x211ccd66400>"
      ]
     },
     "metadata": {},
     "output_type": "display_data"
    }
   ],
   "source": [
    "#9.7)\n",
    "import matplotlib.pyplot as plt\n",
    "%matplotlib inline\n",
    "m,x,fx1,fx2,b=[[0.5,-1],[1.02,-2]],[],[],[],[-9.5,-18.8]\n",
    "deter=m[0][0]*m[1][1]-m[0][1]*m[1][0]\n",
    "for k in range (20):\n",
    "    x1=(9.5+0.5*k)\n",
    "    x2=((18.8+1.02*k)/2.0)\n",
    "    x.append(k)\n",
    "    fx1.append(x1)\n",
    "    fx2.append(x2)\n",
    "    if (x1==x2):\n",
    "        resp2=x1\n",
    "        resp1=((resp2-9.5)/0.5)\n",
    "x1, x2 = resp1, resp2\n",
    "print (\"a). La solución para x2 es: \"+str(resp1))\n",
    "print (\"La solución para x1 es: \"+str(resp2))\n",
    "print (\"b). El determinante es: \"+str(deter))\n",
    "print (\"c). Debido a que el determinante tiende a cero las gráficas parecen que remontara una sobre la otra, esto ocurre \\\n",
    "cuando el sistema puede tener muchas soluciones; sin embargo hay una intersección por lo tanto el sistema tiene única solución\")\n",
    "\n",
    "x11=((m[1][1]*b[0]-m[0][1]*b[1])/deter)\n",
    "print (\"x1 por eliminación de incógnitas: \"+str(x11))\n",
    "x22=((m[0][0]*b[1]-m[1][0]*b[0])/deter)\n",
    "print (\"x2 por eliminación de incógnitas: \"+str(x22))\n",
    "\n",
    "plt.plot(x,fx1, label='0.5x1-x2=-9.5')\n",
    "plt.plot(x,fx2, label='1.02x1-2x2=-18.8')\n",
    "plt.plot(x11,x22, 'cs', label='Solucion')\n",
    "plt.legend()\n",
    "plt.grid(True)\n",
    "plt.show()"
   ]
  },
  {
   "cell_type": "code",
   "execution_count": 6,
   "metadata": {
    "collapsed": false
   },
   "outputs": [
    {
     "name": "stdout",
     "output_type": "stream",
     "text": [
      "a). La solución para x2 es: 4.3\n",
      "La solución para x1 es: -10.0\n",
      "b). El determinante es: -0.020000000000000018\n",
      "c). Debido a que el determinante tiende a cero las gráficas parecen que remontara una sobre la otra, esto ocurre cuando el sistema puede tener muchas soluciones; sin embargo hay una intersección por lo tanto el sistema tiene única solución\n",
      "x1 por eliminación de incógnitas: -9.999999999999956\n",
      "x2 por eliminación de incógnitas: 4.3000000000001\n"
     ]
    },
    {
     "data": {
      "image/png": "[encoded data removed]",
      "text/plain": [
       "<matplotlib.figure.Figure at 0x1f88e604860>"
      ]
     },
     "metadata": {},
     "output_type": "display_data"
    }
   ],
   "source": [
    "#9.7.d)\n",
    "import matplotlib.pyplot as plt\n",
    "%matplotlib inline\n",
    "m,x,fx1,fx2,b=[[0.52,-1],[1.02,-2]],[],[],[],[-9.5,-18.8]\n",
    "deter=m[0][0]*m[1][1]-m[0][1]*m[1][0]\n",
    "k=-15\n",
    "while k<20:\n",
    "    x1=(9.5+0.52*k)\n",
    "    x2=((18.8+1.02*k)/2.0)\n",
    "    x.append(k)\n",
    "    fx1.append(x1)\n",
    "    fx2.append(x2)\n",
    "    if ((int)(x1*10**3)/10**3==(int)(x2*10**3)/10**3):\n",
    "        resp2=x1\n",
    "        resp1=((resp2-9.5)/0.52)\n",
    "    k+=1\n",
    "x1, x2 = resp1, resp2\n",
    "print (\"a). La solución para x2 es: \"+str(resp2))\n",
    "print (\"La solución para x1 es: \"+str(resp1))\n",
    "print (\"b). El determinante es: \"+str(deter))\n",
    "print (\"c). Debido a que el determinante tiende a cero las gráficas parecen que remontara una sobre la otra, esto ocurre \\\n",
    "cuando el sistema puede tener muchas soluciones; sin embargo hay una intersección por lo tanto el sistema tiene única solución\")\n",
    "\n",
    "#Eliminación de incógnitas\n",
    "\n",
    "x11=((m[1][1]*b[0]-m[0][1]*b[1])/deter)\n",
    "print (\"x1 por eliminación de incógnitas: \"+str(x11))\n",
    "x22=((m[0][0]*b[1]-m[1][0]*b[0])/deter)\n",
    "print (\"x2 por eliminación de incógnitas: \"+str(x22))\n",
    "\n",
    "plt.plot(x,fx1, label='0.52x1-x2=-9.5')\n",
    "plt.plot(x,fx2, label='1.02x1-2x2=-18.8')\n",
    "plt.plot(x11,x22, 'cs', label='Solucion')\n",
    "plt.legend()\n",
    "plt.grid(True)\n",
    "plt.show()"
   ]
  },
  {
   "cell_type": "code",
   "execution_count": 9,
   "metadata": {
    "collapsed": false
   },
   "outputs": [
    {
     "name": "stdout",
     "output_type": "stream",
     "text": [
      "a).\n",
      "El valor de la incognita X1 es 0.500\n",
      "El valor de la incognita X2 es 8.000\n",
      "El valor de la incognita X3 es -6.000\n",
      "b).\n",
      "Reemplazando en la primera ecuación 10x1+2x2-1x3=-2 es igual a: 27.000000000000014=27\n",
      "Reemplazando en la segunda ecuación -3x1-6x2+2x3=4 es igual a: -61.49999999999999=-61.5\n",
      "Reemplazando en la tercera ecuación x1+x2+5x3=6 es igual a: -21.5=-21.5\n"
     ]
    }
   ],
   "source": [
    "#9.8)\n",
    "#a)\n",
    "m,b,x,fx1,fx2= [[10.0,2.0,-1.0],[-3.0,-6.0,2.0],[1.0,1.0,5.0]],[27.0,-61.5,-21.5],[],[],[]\n",
    "i,j,k,h=0,0,0,0\n",
    "for i in range(3):\n",
    "    for j in range(3):\n",
    "        if (i==j):\n",
    "            d = m[i][j]\n",
    "            for s in range (3):\n",
    "                m[i][s]/=d\n",
    "            b[i]/=d\n",
    "        else:\n",
    "            d=m[j][i]\n",
    "            for s in range (3):\n",
    "                m[j][s]-=(d*m[i][s])\n",
    "            b[j]-=(d*b[i])\n",
    "i,j=2,2\n",
    "x = [0.0,0.0,0.0]\n",
    "while (i>=0):\n",
    "    y = b[i]\n",
    "    while (j>=i):\n",
    "        y-=x[j]*m[i][j]\n",
    "        j-=1\n",
    "    x[i]=y\n",
    "    i-=1\n",
    "    j=2\n",
    "print (\"a).\")\n",
    "for i in range(3):\n",
    "    k=i+1\n",
    "    print (\"El valor de la incognita X%d es %1.3f\"%(k,x[i]))\n",
    "#b\n",
    "print (\"b).\")\n",
    "print (\"Reemplazando en la primera ecuación 10x1+2x2-1x3=-2 es igual a: \"+str(10*x[0]+2*x[1]-1*x[2])+\"=27\")\n",
    "print (\"Reemplazando en la segunda ecuación -3x1-6x2+2x3=4 es igual a: \"+str(-3*x[0]-6*x[1]+2*x[2])+\"=-61.5\")\n",
    "print (\"Reemplazando en la tercera ecuación x1+x2+5x3=6 es igual a: \"+str(1*x[0]+1*x[1]+5*x[2])+\"=-21.5\")"
   ]
  }
 ],
 "metadata": {
  "kernelspec": {
   "display_name": "Python 3",
   "language": "python",
   "name": "python3"
  },
  "language_info": {
   "codemirror_mode": {
    "name": "ipython",
    "version": 3
   },
   "file_extension": ".py",
   "mimetype": "text/x-python",
   "name": "python",
   "nbconvert_exporter": "python",
   "pygments_lexer": "ipython3",
   "version": "3.5.1"
  }
 },
 "nbformat": 4,
 "nbformat_minor": 0
}
