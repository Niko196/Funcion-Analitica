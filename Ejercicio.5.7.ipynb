{
 "cells": [
  {
   "cell_type": "code",
   "execution_count": 1,
   "metadata": {
    "collapsed": false
   },
   "outputs": [
    {
     "name": "stdout",
     "output_type": "stream",
     "text": [
      "f(x) = (0.8 - 0.3x)/x\n",
      "  0 = (0.8 - 0.3x)/x \n",
      "  0.8/x - 0.3 = 0\n",
      "  0.8/x = 0.3\n",
      "  x = 0.8/0.3\n",
      "  x = 2.667\n",
      "\n",
      "Itera.\t|\tXl\t|\tXr\t|\tXu\t|\tf(x)\t|\tEa\t|\tEt\n",
      "----------------------------------------------------------------------------------------------------\n",
      "0\t|\t1.000\t|\t0.000\t|\t3.000\t|\t--.---\t|\t0.000\t|\t0.000\n",
      "1\t|\t1.000\t|\t2.875\t|\t2.875\t|\t-0.022\t|\t100.000\t|\t7.246\n",
      "2\t|\t1.000\t|\t2.797\t|\t2.797\t|\t-0.014\t|\t2.793\t|\t4.655\n",
      "3\t|\t1.000\t|\t2.748\t|\t2.748\t|\t-0.009\t|\t1.777\t|\t2.961\n",
      "La raiz esta en t = 2.748\n"
     ]
    }
   ],
   "source": [
    "import matplotlib.pyplot as plt\n",
    "import math\n",
    "\n",
    "\n",
    "def funcion(x) :\n",
    "    return (0.8-0.3*x)/x\n",
    "print (\"f(x) = (0.8 - 0.3x)/x\")\n",
    "print (\"  0 = (0.8 - 0.3x)/x \")\n",
    "print (\"  0.8/x - 0.3 = 0\")\n",
    "print (\"  0.8/x = 0.3\")\n",
    "print (\"  x = 0.8/0.3\")\n",
    "x = 0.8/0.3\n",
    "print (\"  x = %1.3f\" %(x))\n",
    "print ()\n",
    "\n",
    "xl, xu, xr = 1, 3, 0.0\n",
    "et, ea, ante = 0.0, 0.0, 0.0\n",
    "rep = -1 \n",
    "fx, tfx = [], range (1, 10)\n",
    "for i in tfx:\n",
    "    fx.append(funcion(i))\n",
    "print (\"Itera.\\t|\\tXl\\t|\\tXr\\t|\\tXu\\t|\\tf(x)\\t|\\tEa\\t|\\tEt\")\n",
    "print (\"-------------------------------------------------------\"\n",
    "      +\"---------------------------------------------\")\n",
    "while True:\n",
    "    rep += 1\n",
    "    if (xr!=0):\n",
    "        print (\"%d\\t|\\t%1.3f\\t|\\t%1.3f\\t|\\t%1.3f\\t|\\t%1.3f\\t|\\t%1.3f\\t|\\t%1.3f\" %(rep, xl, xr, xu, funcion(xr), ea, et))\n",
    "    else : \n",
    "        print (\"%d\\t|\\t%1.3f\\t|\\t%1.3f\\t|\\t%1.3f\\t|\\t--.---\\t|\\t%1.3f\\t|\\t%1.3f\" %(rep, xl, xr, xu, ea, et))\n",
    "    if (funcion(xl)*funcion(xu)<0):\n",
    "        if (rep==3):\n",
    "            print (\"La raiz esta en t = %1.3f\" %(xr))\n",
    "            break\n",
    "        xr = (xu-((funcion(xu)*(xl-xu))/(funcion(xl)-funcion(xu))))\n",
    "        et = math.fabs(x-xr)/xr*100\n",
    "        ea = math.fabs(xr-ante)/xr*100\n",
    "        ante = xr;\n",
    "        if (funcion(xl)*funcion(xr)<0) :\n",
    "            xu = xr\n",
    "        else : \n",
    "            if (funcion(xl)*funcion(xr)>0):\n",
    "                xl = xr\n",
    "    else :\n",
    "        break\n",
    "        \n",
    "plt.plot([-1, 10], [0,0])\n",
    "plt.plot([0,0], [-1,1])\n",
    "plt.plot(tfx, fx, label='f(x)')\n",
    "plt.title(\"Velocidad del paracaidista\")\n",
    "plt.legend(loc=\"upper left\")\n",
    "plt.xlabel(\"Tiempo\")\n",
    "plt.xlim(-1, 10)\n",
    "plt.ylabel(\"Velocidad\")\n",
    "plt.ylim(-1, 1)\n",
    "plt.show()"
   ]
  },
  {
   "cell_type": "code",
   "execution_count": null,
   "metadata": {
    "collapsed": true
   },
   "outputs": [],
   "source": []
  }
 ],
 "metadata": {
  "kernelspec": {
   "display_name": "Python 3",
   "language": "python",
   "name": "python3"
  },
  "language_info": {
   "codemirror_mode": {
    "name": "ipython",
    "version": 3
   },
   "file_extension": ".py",
   "mimetype": "text/x-python",
   "name": "python",
   "nbconvert_exporter": "python",
   "pygments_lexer": "ipython3",
   "version": "3.5.1"
  }
 },
 "nbformat": 4,
 "nbformat_minor": 0
}
