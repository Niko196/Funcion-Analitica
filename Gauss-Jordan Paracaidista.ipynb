{
 "cells": [
  {
   "cell_type": "markdown",
   "metadata": {},
   "source": [
    "Planteamiento del problema. Un programa de computadora para resolver ecuaciones algebraicas lineales, sirve para resolver un problema relacionado con el ejemplo de la caída del paracaidista. Suponga que un equipo de tres paracaidistas está unido por una cuerda ligera mientras va en caída libre a una velocidad de 5 m/s. Calcule la tensión en cada sección de la cuerda y la aceleración del equipo, dado la matriz de coeficientes del sistema de ecuaciones resultante."
   ]
  },
  {
   "cell_type": "code",
   "execution_count": 2,
   "metadata": {
    "collapsed": false
   },
   "outputs": [
    {
     "name": "stdout",
     "output_type": "stream",
     "text": [
      "Para el problema del paracaidista, los resultados son: \n",
      "    a= 8.594118 m/s^2\n",
      "    T= 34.411765 N\n",
      "    R= 36.764706 N\n"
     ]
    }
   ],
   "source": [
    "piv, matriz = 0, [[70.0,1.0,0.0,636.0], [60.0,-1.0,1.0,518.0], [40.0,0.0,-1.0,307.0]]\n",
    "\n",
    "n = len(matriz)\n",
    "    \n",
    "def pivoteo(matriz,piv,n):\n",
    "    aux=matriz[piv][piv]+0.0\n",
    "    for y in range(n+1):\n",
    "        matriz[piv][y]=matriz[piv][y]/aux\n",
    "        \n",
    "def ceros(matriz,piv,n):\n",
    "    for x in range(n):\n",
    "        if (x!=piv):\n",
    "            aux = matriz[x][piv]\n",
    "            for z in range(n+1):\n",
    "                matriz[x][z]=((-1*aux)*matriz[piv][z])+matriz[x][z]\n",
    "                \n",
    "for a in range(n):\n",
    "    pivoteo(matriz,piv,n)\n",
    "    ceros(matriz,piv,n)\n",
    "    piv += 1\n",
    "print (\"Para el problema del paracaidista, los resultados son: \")\n",
    "print (\"    a= %f m/s^2\" %(matriz[0][n]))\n",
    "print (\"    T= %f N\" %(matriz[1][n]))\n",
    "print (\"    R= %f N\" %(matriz[2][n]))"
   ]
  },
  {
   "cell_type": "code",
   "execution_count": null,
   "metadata": {
    "collapsed": true
   },
   "outputs": [],
   "source": []
  }
 ],
 "metadata": {
  "kernelspec": {
   "display_name": "Python 3",
   "language": "python",
   "name": "python3"
  },
  "language_info": {
   "codemirror_mode": {
    "name": "ipython",
    "version": 3
   },
   "file_extension": ".py",
   "mimetype": "text/x-python",
   "name": "python",
   "nbconvert_exporter": "python",
   "pygments_lexer": "ipython3",
   "version": "3.5.1"
  }
 },
 "nbformat": 4,
 "nbformat_minor": 0
}
