{
 "cells": [
  {
   "cell_type": "markdown",
   "metadata": {},
   "source": [
    "#  EL MÉTODO DE LA SECANTE"
   ]
  },
  {
   "cell_type": "code",
   "execution_count": 2,
   "metadata": {
    "collapsed": false
   },
   "outputs": [
    {
     "name": "stdout",
     "output_type": "stream",
     "text": [
      "i\t|\tXi\t\t|\tEa\n",
      "----------------------------------------------\n",
      "0\t|\t1.000000\t|\t0.000000\n",
      "1\t|\t0.612714\t|\t63.208241\n",
      "2\t|\t0.563861\t|\t8.664083\n",
      "3\t|\t0.567192\t|\t0.587250\n",
      "4\t|\t0.567165\t|\t0.004767\n"
     ]
    }
   ],
   "source": [
    "import math\n",
    "\n",
    "def funcion (x):\n",
    "    return (e**(-x)-x)\n",
    "\n",
    "def error(x1, xi):\n",
    "    return (math.fabs((x1-xi)/x1)*100)\n",
    "\n",
    "e, ea, xi, x1, rep = 2.718, 0, 0, 1, 0\n",
    "print(\"i\\t|\\tXi\\t\\t|\\tEa\")\n",
    "print (\"----------------------------------------------\")\n",
    "while rep<=4:\n",
    "    print(\"%d\\t|\\t%f\\t|\\t%f\" %(rep, x1, ea))\n",
    "    aux = x1-(funcion(x1)*(xi-x1)/(funcion(xi)-funcion(x1)))\n",
    "    xi = x1\n",
    "    x1 = aux\n",
    "    ea = error(x1, xi)\n",
    "    rep +=1"
   ]
  },
  {
   "cell_type": "code",
   "execution_count": null,
   "metadata": {
    "collapsed": true
   },
   "outputs": [],
   "source": []
  }
 ],
 "metadata": {
  "kernelspec": {
   "display_name": "Python 3",
   "language": "python",
   "name": "python3"
  },
  "language_info": {
   "codemirror_mode": {
    "name": "ipython",
    "version": 3
   },
   "file_extension": ".py",
   "mimetype": "text/x-python",
   "name": "python",
   "nbconvert_exporter": "python",
   "pygments_lexer": "ipython3",
   "version": "3.5.1"
  }
 },
 "nbformat": 4,
 "nbformat_minor": 0
}
